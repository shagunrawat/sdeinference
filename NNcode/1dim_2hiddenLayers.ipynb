{
 "cells": [
  {
   "cell_type": "code",
   "execution_count": 1,
   "metadata": {
    "collapsed": true
   },
   "outputs": [],
   "source": [
    "from __future__ import division, print_function, unicode_literals\n",
    "\n",
    "import tensorflow as tf\n",
    "import numpy as np\n",
    "import math, random\n",
    "import matplotlib.pyplot as plt\n",
    "%matplotlib inline\n",
    "\n",
    "def reset_graph(seed = 42):\n",
    "    tf.reset_default_graph()\n",
    "    tf.set_random_seed(seed)\n",
    "    np.random.seed(seed)"
   ]
  },
  {
   "cell_type": "code",
   "execution_count": 2,
   "metadata": {
    "collapsed": true
   },
   "outputs": [],
   "source": [
    "reset_graph()\n",
    "np.random.seed(42)\n",
    "n_hidden1 = 40\n",
    "n_hidden2 = 2\n",
    "n_inputs = 1000\n",
    "n_outputs = 1\n",
    "train_split = .8\n",
    "batch_size = 10\n",
    "n_epochs = 1001"
   ]
  },
  {
   "cell_type": "code",
   "execution_count": 3,
   "metadata": {
    "collapsed": true
   },
   "outputs": [],
   "source": [
    "# randn takes the dimensions of the returned array as the parameters\n",
    "def function_to_learn(x):\n",
    "    return 2 * np.sin(1 - x)\n",
    "\n",
    "def function_to_learn_with_noise(x):\n",
    "    return 2 * np.sin(1 - x) + 0.125 * np.random.randn(*x.shape)"
   ]
  },
  {
   "cell_type": "code",
   "execution_count": 4,
   "metadata": {
    "collapsed": true
   },
   "outputs": [],
   "source": [
    "X_all = np.float32(np.random.uniform(0, 10, (1, n_inputs))).T\n",
    "np.random.shuffle(X_all)\n",
    "train_size = int(n_inputs * train_split)\n",
    "X_train = X_all[:train_size]\n",
    "X_validation = X_all[train_size:]\n",
    "y_train = function_to_learn_with_noise(X_train)\n",
    "y_validation = function_to_learn_with_noise(X_validation)"
   ]
  },
  {
   "cell_type": "code",
   "execution_count": 5,
   "metadata": {},
   "outputs": [
    {
     "data": {
      "text/plain": [
       "<matplotlib.legend.Legend at 0x7f0804d4cf98>"
      ]
     },
     "execution_count": 5,
     "metadata": {},
     "output_type": "execute_result"
    },
    {
     "data": {
      "image/png": "[encoded data removed]",
      "text/plain": [
       "<matplotlib.figure.Figure at 0x7f080cbc3c50>"
      ]
     },
     "metadata": {},
     "output_type": "display_data"
    }
   ],
   "source": [
    "plt.figure(1)\n",
    "plt.scatter(X_train, y_train, c = 'green', label = 'train')\n",
    "plt.scatter(X_validation, y_validation, c = 'red', label = 'validation')\n",
    "plt.legend()"
   ]
  },
  {
   "cell_type": "code",
   "execution_count": 6,
   "metadata": {
    "collapsed": true
   },
   "outputs": [],
   "source": [
    "X = tf.placeholder(tf.float32, shape = (None, 1), name = \"X\")\n",
    "y = tf.placeholder(tf.float32, shape = None, name = \"y\")"
   ]
  },
  {
   "cell_type": "code",
   "execution_count": 7,
   "metadata": {
    "collapsed": true
   },
   "outputs": [],
   "source": [
    "with tf.name_scope(\"function_approximator\"):\n",
    "    hidden1 = tf.layers.dense(X, n_hidden1, activation = tf.nn.relu, name = \"hidden1\")\n",
    "    hidden2 = tf.layers.dense(hidden1, n_hidden2, activation = tf.nn.relu, name = \"hidden2\")\n",
    "    logits = tf.layers.dense(hidden2, n_outputs, name = \"outputs\")"
   ]
  },
  {
   "cell_type": "code",
   "execution_count": 8,
   "metadata": {
    "collapsed": true
   },
   "outputs": [],
   "source": [
    "# with tf.name_scope(\"function_approximator\"):\n",
    "#     hidden1_1 = tf.layers.dense(X, n_hidden1_1, activation = tf.nn.relu, name = \"hidden1_1\")\n",
    "#     hidden1_2 = tf.layers.dense(X, n_hidden1_2, activation = tf.nn.relu, anem = \"hidden1_2\")\n",
    "#     hidden2_1 = tf.layers.dense(hidden1_1, n_hidden2_1, activation = tf.nn.relu, name = \"hidden2_1\")\n",
    "#     hidden2_2 = tf.layers.dense(hidden1_2, n_hidden2_2, activation = tf.nn.relu, name = \"hidden2_2\")\n",
    "#     logits = tf.layers.dense(hidden1, n_outputs, name = \"outputs\")"
   ]
  },
  {
   "cell_type": "code",
   "execution_count": 9,
   "metadata": {
    "collapsed": true
   },
   "outputs": [],
   "source": [
    "with tf.name_scope(\"loss\"):\n",
    "    loss = tf.nn.l2_loss(logits - y)"
   ]
  },
  {
   "cell_type": "code",
   "execution_count": 10,
   "metadata": {
    "collapsed": true
   },
   "outputs": [],
   "source": [
    "learning_rate = 0.01\n",
    "\n",
    "with tf.name_scope(\"train\"):\n",
    "#     optimizer = tf.train.FtrlOptimizer(learning_rate)\n",
    "    optimizer = tf.train.AdamOptimizer(learning_rate)\n",
    "    training_op = optimizer.minimize(loss)"
   ]
  },
  {
   "cell_type": "code",
   "execution_count": 11,
   "metadata": {
    "collapsed": true
   },
   "outputs": [],
   "source": [
    "init = tf.global_variables_initializer()\n",
    "saver = tf.train.Saver()"
   ]
  },
  {
   "cell_type": "code",
   "execution_count": 13,
   "metadata": {},
   "outputs": [],
   "source": [
    "with tf.name_scope(\"eval\"):\n",
    "    mse = tf.nn.l2_loss(logits - y_validation)"
   ]
  },
  {
   "cell_type": "code",
   "execution_count": 14,
   "metadata": {},
   "outputs": [
    {
     "name": "stdout",
     "output_type": "stream",
     "text": [
      "Epoch: 0 Validation accuracy: 193.185\n",
      "Epoch: 100 Validation accuracy: 119.624\n",
      "Epoch: 200 Validation accuracy: 119.352\n",
      "Epoch: 300 Validation accuracy: 119.356\n",
      "Epoch: 400 Validation accuracy: 119.38\n",
      "Epoch: 500 Validation accuracy: 119.471\n",
      "Epoch: 600 Validation accuracy: 119.436\n",
      "Epoch: 700 Validation accuracy: 119.369\n",
      "Epoch: 800 Validation accuracy: 119.354\n",
      "Epoch: 900 Validation accuracy: 119.33\n",
      "Epoch: 1000 Validation accuracy: 119.338\n"
     ]
    }
   ],
   "source": [
    "with tf.Session() as sess:\n",
    "    init.run()\n",
    "    errors = []\n",
    "    for epoch in range(n_epochs):\n",
    "        for start, end in zip(range(0, len(X_train), batch_size), range(batch_size, len(X_train), batch_size)):\n",
    "            X_batch = X_train[start:end]\n",
    "            y_batch = y_train[start:end]\n",
    "            sess.run(training_op, feed_dict={X: X_batch, y: y_batch})\n",
    "        mse_validation = sess.run(mse, feed_dict = {X: X_validation})\n",
    "        errors.append(mse_validation)\n",
    "        if epoch % 100 == 0:\n",
    "            print(\"Epoch:\", epoch, \"Validation accuracy:\", mse_validation)\n",
    "\n",
    "    save_path = saver.save(sess, \"./1dim_2hiddenLayers.ckpt\")"
   ]
  },
  {
   "cell_type": "code",
   "execution_count": 15,
   "metadata": {
    "scrolled": true
   },
   "outputs": [
    {
     "data": {
      "image/png": "[encoded data removed]",
      "text/plain": [
       "<matplotlib.figure.Figure at 0x7f0804a7e390>"
      ]
     },
     "metadata": {},
     "output_type": "display_data"
    }
   ],
   "source": [
    "plt.plot(errors)\n",
    "plt.xlabel('#epochs')\n",
    "plt.ylabel('MSE')\n",
    "plt.grid(True)"
   ]
  },
  {
   "cell_type": "code",
   "execution_count": 16,
   "metadata": {},
   "outputs": [
    {
     "name": "stdout",
     "output_type": "stream",
     "text": [
      "INFO:tensorflow:Restoring parameters from ./1dim_2hiddenLayers.ckpt\n",
      "[<tf.Variable 'hidden1/kernel:0' shape=(1, 40) dtype=float32_ref>, <tf.Variable 'hidden1/bias:0' shape=(40,) dtype=float32_ref>, <tf.Variable 'hidden2/kernel:0' shape=(40, 2) dtype=float32_ref>, <tf.Variable 'hidden2/bias:0' shape=(2,) dtype=float32_ref>, <tf.Variable 'outputs/kernel:0' shape=(2, 1) dtype=float32_ref>, <tf.Variable 'outputs/bias:0' shape=(1,) dtype=float32_ref>]\n"
     ]
    }
   ],
   "source": [
    "with tf.Session() as sess:\n",
    "    saver.restore(sess, \"./1dim_2hiddenLayers.ckpt\")\n",
    "    print(tf.trainable_variables())"
   ]
  }
 ],
 "metadata": {
  "kernelspec": {
   "display_name": "Python (tensorflow)",
   "language": "python",
   "name": "tensorflow"
  },
  "language_info": {
   "codemirror_mode": {
    "name": "ipython",
    "version": 3
   },
   "file_extension": ".py",
   "mimetype": "text/x-python",
   "name": "python",
   "nbconvert_exporter": "python",
   "pygments_lexer": "ipython3",
   "version": "3.5.4"
  }
 },
 "nbformat": 4,
 "nbformat_minor": 2
}
