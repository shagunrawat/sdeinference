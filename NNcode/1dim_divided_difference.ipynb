{
 "cells": [
  {
   "cell_type": "code",
   "execution_count": 1,
   "metadata": {
    "collapsed": true
   },
   "outputs": [],
   "source": [
    "from __future__ import division, print_function, unicode_literals\n",
    "\n",
    "import tensorflow as tf\n",
    "import numpy as np\n",
    "import math, random\n",
    "import matplotlib.pyplot as plt\n",
    "%matplotlib inline\n",
    "\n",
    "def reset_graph(seed = 42):\n",
    "    tf.reset_default_graph()\n",
    "    tf.set_random_seed(seed)\n",
    "    np.random.seed(seed)"
   ]
  },
  {
   "cell_type": "code",
   "execution_count": 2,
   "metadata": {
    "collapsed": true
   },
   "outputs": [],
   "source": [
    "reset_graph()\n",
    "np.random.seed(42)\n",
    "n_hidden1 = 40\n",
    "n_hidden2 = 10\n",
    "n_inputs = 1000\n",
    "n_outputs = 1\n",
    "train_split = .8\n",
    "batch_size = 10\n",
    "n_epochs = 1001"
   ]
  },
  {
   "cell_type": "code",
   "execution_count": 3,
   "metadata": {
    "collapsed": true
   },
   "outputs": [],
   "source": [
    "## Note: x vs y is the equation of a circle centered at zero, with radius = 2\n",
    "# def function_to_learn(x, noise = False):\n",
    "#     if (noise):\n",
    "#         return 2 * np.sin(1 - x) + 0.0125 * np.random.randn(*x.shape)\n",
    "#     else:\n",
    "#         return 2 * np.sin(1 - x)\n",
    "    \n",
    "# def true_derivative(x):\n",
    "#     return -2 * np.cos(1 - x)"
   ]
  },
  {
   "cell_type": "code",
   "execution_count": 4,
   "metadata": {
    "collapsed": true
   },
   "outputs": [],
   "source": [
    "def function_to_learn(x, noise = False):\n",
    "    if (noise):\n",
    "        return 1 + 2 * pow(x, 2) + 0.0125 * np.random.randn(*x.shape)\n",
    "    else:\n",
    "        return 1 + 2 * pow(x, 2)\n",
    "\n",
    "def true_derivative(x):\n",
    "    return 4 * x"
   ]
  },
  {
   "cell_type": "code",
   "execution_count": 5,
   "metadata": {},
   "outputs": [],
   "source": [
    "noise = False\n",
    "start_val = 0\n",
    "end_val = 50\n",
    "timediff = (end_val - start_val) / n_inputs\n",
    "train_size = int(n_inputs * train_split)\n",
    "\n",
    "timestamps = np.float32(np.arange(start_val, end_val + timediff, timediff)).reshape((n_inputs + 1, 1))\n",
    "\n",
    "X_all = function_to_learn(timestamps, noise)\n",
    "\n",
    "# Case 1: Use the exact derivative to train the system\n",
    "y_all = true_derivative(timestamps)\n",
    "\n",
    "# Case 2: Use the finite difference approximation to train the system\n",
    "# y_all = np.zeros(n_inputs).reshape(n_inputs, 1)    \n",
    "# for i in range(0, n_inputs):\n",
    "#     y_all[i] = (X_all[i + 1] - X_all[i]) / (timestamps[i + 1] - timestamps[i])\n",
    "\n",
    "index_train = np.random.choice(np.arange(n_inputs), train_size, replace = False)\n",
    "X_train = X_all[index_train]\n",
    "y_train = y_all[index_train]\n",
    "\n",
    "index_validation = np.setdiff1d(np.arange(n_inputs), index_train)\n",
    "np.random.shuffle(index_validation)\n",
    "X_validation = X_all[index_validation]\n",
    "y_validation = y_all[index_validation]"
   ]
  },
  {
   "cell_type": "code",
   "execution_count": 6,
   "metadata": {},
   "outputs": [
    {
     "name": "stdout",
     "output_type": "stream",
     "text": [
      "(800, 1)\n"
     ]
    }
   ],
   "source": [
    "print(y_train.shape)"
   ]
  },
  {
   "cell_type": "code",
   "execution_count": 7,
   "metadata": {},
   "outputs": [
    {
     "data": {
      "text/plain": [
       "<matplotlib.legend.Legend at 0x7f4bde410470>"
      ]
     },
     "execution_count": 7,
     "metadata": {},
     "output_type": "execute_result"
    },
    {
     "data": {
      "image/png": "[encoded data removed]",
      "text/plain": [
       "<matplotlib.figure.Figure at 0x7f4be62628d0>"
      ]
     },
     "metadata": {},
     "output_type": "display_data"
    }
   ],
   "source": [
    "plt.figure(1)\n",
    "plt.scatter(X_train, y_train, c = 'green', label = 'train')\n",
    "plt.scatter(X_validation, y_validation, c = 'red', label = 'validation')\n",
    "plt.legend()"
   ]
  },
  {
   "cell_type": "code",
   "execution_count": 8,
   "metadata": {
    "collapsed": true
   },
   "outputs": [],
   "source": [
    "X = tf.placeholder(tf.float32, shape = (None, 1), name = \"X\")\n",
    "y = tf.placeholder(tf.float32, shape = None, name = \"y\")"
   ]
  },
  {
   "cell_type": "code",
   "execution_count": 9,
   "metadata": {
    "collapsed": true
   },
   "outputs": [],
   "source": [
    "with tf.name_scope(\"function_approximator\"):\n",
    "    hidden1 = tf.layers.dense(X, n_hidden1, activation = tf.nn.relu, name = \"hidden1\")\n",
    "    hidden2 = tf.layers.dense(hidden1, n_hidden2, activation = tf.nn.relu, name = \"hidden2\")\n",
    "    logits = tf.layers.dense(hidden1, n_outputs, name = \"outputs\")"
   ]
  },
  {
   "cell_type": "code",
   "execution_count": 10,
   "metadata": {
    "collapsed": true
   },
   "outputs": [],
   "source": [
    "with tf.name_scope(\"loss\"):\n",
    "    loss = tf.nn.l2_loss(logits - y)"
   ]
  },
  {
   "cell_type": "code",
   "execution_count": 11,
   "metadata": {
    "collapsed": true
   },
   "outputs": [],
   "source": [
    "learning_rate = 0.01\n",
    "\n",
    "with tf.name_scope(\"train\"):\n",
    "    optimizer = tf.train.AdamOptimizer(learning_rate)\n",
    "    training_op = optimizer.minimize(loss)"
   ]
  },
  {
   "cell_type": "code",
   "execution_count": 12,
   "metadata": {
    "collapsed": true
   },
   "outputs": [],
   "source": [
    "init = tf.global_variables_initializer()\n",
    "saver = tf.train.Saver()"
   ]
  },
  {
   "cell_type": "code",
   "execution_count": 13,
   "metadata": {
    "collapsed": true
   },
   "outputs": [],
   "source": [
    "with tf.name_scope(\"eval\"):\n",
    "    mse = tf.nn.l2_loss(logits - y_validation)"
   ]
  },
  {
   "cell_type": "code",
   "execution_count": 14,
   "metadata": {},
   "outputs": [
    {
     "name": "stdout",
     "output_type": "stream",
     "text": [
      "Epoch: 0 Validation accuracy: 79141.8\n",
      "Epoch: 100 Validation accuracy: 3323.99\n",
      "Epoch: 200 Validation accuracy: 1402.16\n",
      "Epoch: 300 Validation accuracy: 1136.6\n",
      "Epoch: 400 Validation accuracy: 540.826\n",
      "Epoch: 500 Validation accuracy: 593.652\n",
      "Epoch: 600 Validation accuracy: 745.649\n",
      "Epoch: 700 Validation accuracy: 3072.44\n",
      "Epoch: 800 Validation accuracy: 281.489\n",
      "Epoch: 900 Validation accuracy: 135.319\n",
      "Epoch: 1000 Validation accuracy: 148.202\n"
     ]
    }
   ],
   "source": [
    "with tf.Session() as sess:\n",
    "    init.run()\n",
    "    errors = []\n",
    "    for epoch in range(n_epochs):\n",
    "        for start, end in zip(range(0, len(X_train), batch_size), range(batch_size, len(X_train), batch_size)):\n",
    "            X_batch = X_train[start:end]\n",
    "            y_batch = y_train[start:end]\n",
    "            sess.run(training_op, feed_dict={X: X_batch, y: y_batch})\n",
    "        mse_validation = sess.run(mse, feed_dict = {X: X_validation})\n",
    "        errors.append(mse_validation)\n",
    "        if epoch % 100 == 0:\n",
    "            print(\"Epoch:\", epoch, \"Validation accuracy:\", mse_validation)\n",
    "\n",
    "    save_path = saver.save(sess, \"./my_model_final.ckpt\")"
   ]
  },
  {
   "cell_type": "code",
   "execution_count": 15,
   "metadata": {},
   "outputs": [
    {
     "data": {
      "image/png": "[encoded data removed]",
      "text/plain": [
       "<matplotlib.figure.Figure at 0x7f4bde1f9400>"
      ]
     },
     "metadata": {},
     "output_type": "display_data"
    }
   ],
   "source": [
    "plt.plot(errors)\n",
    "plt.xlabel('#epochs')\n",
    "plt.ylabel('MSE')\n",
    "plt.grid(True)"
   ]
  }
 ],
 "metadata": {
  "kernelspec": {
   "display_name": "Python (tensorflow)",
   "language": "python",
   "name": "tensorflow"
  },
  "language_info": {
   "codemirror_mode": {
    "name": "ipython",
    "version": 3
   },
   "file_extension": ".py",
   "mimetype": "text/x-python",
   "name": "python",
   "nbconvert_exporter": "python",
   "pygments_lexer": "ipython3",
   "version": "3.5.4"
  }
 },
 "nbformat": 4,
 "nbformat_minor": 2
}
