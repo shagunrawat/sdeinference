{
 "cells": [
  {
   "cell_type": "code",
   "execution_count": 1,
   "metadata": {
    "collapsed": true
   },
   "outputs": [],
   "source": [
    "import numpy as np\n",
    "import scipy.stats"
   ]
  },
  {
   "cell_type": "code",
   "execution_count": 2,
   "metadata": {
    "collapsed": true
   },
   "outputs": [],
   "source": [
    "import tensorflow as tf\n",
    "from numba import jit"
   ]
  },
  {
   "cell_type": "code",
   "execution_count": 3,
   "metadata": {
    "collapsed": false
   },
   "outputs": [],
   "source": [
    "sess = tf.Session()\n",
    "sess.run(tf.global_variables_initializer())"
   ]
  },
  {
   "cell_type": "code",
   "execution_count": 4,
   "metadata": {
    "collapsed": true
   },
   "outputs": [],
   "source": [
    "@jit\n",
    "def f(theta, x, returngrad=False):\n",
    "    fval = (theta[0])*(theta[1] - x)\n",
    "    if returngrad==False:\n",
    "        return fval\n",
    "    else:\n",
    "        if (np.isscalar(x)):\n",
    "            xshape = ()\n",
    "        else:\n",
    "            xshape = x.shape\n",
    "        dfdtheta = np.zeros(theta.shape + xshape)\n",
    "        # want this to broadcast correctly regardless of whether x is a matrix or vector\n",
    "        dfdtheta[0,...] = fval/theta[0]\n",
    "        dfdtheta[1,...] = theta[0]\n",
    "        dfdtheta[2,...] = 0\n",
    "        return fval, dfdtheta\n",
    "    \n",
    "@jit\n",
    "def g(theta, x, returngrad=False):\n",
    "    if (np.isscalar(x)):\n",
    "        xshape = ()\n",
    "        gval = theta[2]\n",
    "    else:\n",
    "        xshape = x.shape\n",
    "        gval = np.ones(xshape)*theta[2]\n",
    "        \n",
    "    if returngrad==False:\n",
    "        return gval\n",
    "    else:\n",
    "        dgdtheta = np.zeros(theta.shape + xshape)\n",
    "        # want this to broadcast correctly regardless of whether x is a matrix or vector\n",
    "        dgdtheta[0,...] = 0\n",
    "        dgdtheta[1,...] = 0\n",
    "        dgdtheta[2,...] = 1\n",
    "        return gval, dgdtheta"
   ]
  },
  {
   "cell_type": "code",
   "execution_count": 5,
   "metadata": {
    "collapsed": false
   },
   "outputs": [],
   "source": [
    "# create the sparse A and B tensors\n",
    "# this is a pure Python and Numpy function\n",
    "# and therefore can be accelerated with Numba's JIT compiler\n",
    "@jit\n",
    "def createAB(M, k, h, tol=np.inf):\n",
    "    AMtheta = 0.5\n",
    "    omtheta = 1.-AMtheta\n",
    "    alpha = np.zeros(2)\n",
    "    alpha[0] = 0.5/(AMtheta*omtheta)\n",
    "    alpha[1] = alpha[0]*(omtheta*omtheta + AMtheta*AMtheta)\n",
    "    grid = np.arange(-M,(M+1))*k\n",
    "    N = 2*M+1\n",
    "    outAval = np.zeros(1)\n",
    "    outAind = np.zeros((1,3),dtype='int64')\n",
    "    Aval = [outAval]\n",
    "    Aind = [outAind]\n",
    "    th = np.array([1.,0.5,0.75])\n",
    "    fvec = f(th, grid)\n",
    "    gvec = g(th, grid)\n",
    "    g2m1 = np.square(gvec)\n",
    "    col1 = np.ones((N,1),dtype='int64')\n",
    "    colr = np.array([np.arange(0,N,dtype='int64')]).T\n",
    "    for i in range(N):\n",
    "        for j in range(N):\n",
    "            if (abs(i-j) > tol):\n",
    "                continue\n",
    "\n",
    "            yi = grid[i]\n",
    "            ystar = grid[j]\n",
    "            mv = ystar + (alpha[0]*f(th,ystar) - alpha[1]*fvec)*omtheta*h\n",
    "            g2star = np.square(g(th,ystar))\n",
    "            vv = np.maximum(0, alpha[0]*g2star - alpha[1]*g2m1)*omtheta*h\n",
    "            thesevals = scipy.stats.norm.pdf(x=yi, loc=mv, scale=np.sqrt(vv))\n",
    "            indblock = np.hstack([i*col1,j*col1,colr])\n",
    "            Aind.append(indblock)\n",
    "            Aval.append(thesevals)\n",
    "    \n",
    "    outAind = np.vstack(Aind[1:])\n",
    "    outAval = np.hstack(Aval[1:])\n",
    "\n",
    "    Bds = [N,N]\n",
    "    Bind = np.zeros((0,2))\n",
    "    thisvar = g2m1*AMtheta*h\n",
    "    c0mod = 1./np.sqrt(2.0*np.pi*thisvar)\n",
    "    propvals = np.exp(-(AMtheta*h/2.0)*np.square(fvec)/g2m1) * c0mod\n",
    "    Bval = [propvals]\n",
    "    indblock = np.hstack([colr, colr])\n",
    "    Bind = [np.vstack([Bind, indblock])]\n",
    "\n",
    "    for curdiag in np.arange(1,N):\n",
    "        thislen = N - curdiag\n",
    "        mymean = curdiag*k + fvec*h*AMtheta\n",
    "        thisdiag = np.exp(-np.square(mymean)/(2.0*thisvar)) * c0mod\n",
    "        thisdiag = thisdiag[-thislen:]\n",
    "        indblock = np.hstack([colr[:(N-curdiag)],(colr[:(N-curdiag)]+curdiag)])\n",
    "        Bind.append(indblock) \n",
    "        Bval.append(thisdiag) \n",
    "\n",
    "    for curdiag in np.arange(1,N):\n",
    "        thislen = N - curdiag\n",
    "        mymean = -curdiag*k + fvec*h*AMtheta\n",
    "        thisdiag = np.exp(-np.square(mymean)/(2.0*thisvar)) * c0mod\n",
    "        thisdiag = thisdiag[:thislen]\n",
    "        indblock = np.hstack([(colr[:(N-curdiag)]+curdiag),colr[:(N-curdiag)]])\n",
    "        Bind.append(indblock) \n",
    "        Bval.append(thisdiag) \n",
    "\n",
    "    outBind = np.vstack(Bind)\n",
    "    outBval = np.hstack(Bval)\n",
    "    \n",
    "    return outAind, outAval, outBind, outBval"
   ]
  },
  {
   "cell_type": "code",
   "execution_count": 6,
   "metadata": {
    "collapsed": false
   },
   "outputs": [],
   "source": [
    "# create the Anderon-Mattingly propagator\n",
    "def computeAMprop(Aind, Aval, Bden):\n",
    "    sortAind = np.argsort(Aind[:,2])\n",
    "    newAind = Aind[sortAind,:]\n",
    "    newAval = np.array(Aval)\n",
    "    newAval = newAval[sortAind]\n",
    "    mypropcols = []\n",
    "    startind = 0\n",
    "    thisds = [N,N]\n",
    "    for j in range(N):\n",
    "        if j==(N-1):\n",
    "            endind = len(Aval)\n",
    "        else:\n",
    "            endind = np.searchsorted(newAind[:,2],(j+1))\n",
    "\n",
    "        thesevals = newAval[startind:endind]\n",
    "        theseinds = newAind[startind:endind,0:2]\n",
    "        thisten = tf.SparseTensor(indices=theseinds,values=thesevals,dense_shape=thisds)\n",
    "        newcolumn = k*tf.sparse_tensor_dense_matmul(thisten, tf.slice(Bden, [0,j], [N,1]))\n",
    "        mypropcols.append(newcolumn[:,0])\n",
    "        startind = endind\n",
    "\n",
    "    myprop = tf.stack(mypropcols)\n",
    "    return myprop\n"
   ]
  },
  {
   "cell_type": "code",
   "execution_count": 7,
   "metadata": {
    "collapsed": false
   },
   "outputs": [],
   "source": [
    "# wasteful way where we first compute a massive tensor dot product and then essentially pull out diagonals\n",
    "# Ads = [N,N,N]\n",
    "# Aten = tf.SparseTensor(indices=Aind,values=Aval,dense_shape=Ads)\n",
    "# propten = k*tf.tensordot(tf.sparse_tensor_to_dense(Aten,validate_indices=False), Bden, axes = [[1], [0]])\n",
    "# propden = sess.run(propten)\n",
    "# actprop = np.zeros((N,N))\n",
    "# for j in range(N):\n",
    "#     actprop[j] = np.diag(propden[j])"
   ]
  },
  {
   "cell_type": "code",
   "execution_count": 8,
   "metadata": {
    "collapsed": false
   },
   "outputs": [
    {
     "data": {
      "text/plain": [
       "array([ 0.99951794,  0.9998943 ,  0.99998011,  0.99999679,  0.99999955,\n",
       "        0.99999995,  0.99999999,  1.        ,  1.        ,  1.        ,\n",
       "        1.        ,  1.        ,  1.        ,  1.        ,  1.        ,\n",
       "        1.        ,  1.        ,  1.        ,  1.        ,  1.        ,\n",
       "        1.        ,  1.        ,  1.        ,  1.        ,  1.        ,\n",
       "        1.        ,  1.        ,  1.        ,  1.        ,  1.        ,\n",
       "        1.        ,  1.        ,  0.99999999,  0.99999996,  0.99999969,\n",
       "        0.9999979 ,  0.99998721,  0.9999314 ,  0.9996794 ,  0.99870181,\n",
       "        0.99545597])"
      ]
     },
     "execution_count": 8,
     "metadata": {},
     "output_type": "execute_result"
    }
   ],
   "source": [
    "M = 20\n",
    "N = 2*M+1\n",
    "k = 0.20\n",
    "h = 0.5\n",
    "Aind, Aval, Bind, Bval = createAB(M, k, h)\n",
    "Bds = [N, N]\n",
    "Bten = tf.SparseTensor(indices=Bind,values=Bval,dense_shape=Bds)\n",
    "Bden = tf.sparse_tensor_to_dense(Bten,validate_indices=False)\n",
    "prop = computeAMprop(Aind, Aval, Bden)\n",
    "\n",
    "# check normalization\n",
    "sess.run(tf.reduce_sum(prop,axis=1))*k"
   ]
  },
  {
   "cell_type": "code",
   "execution_count": null,
   "metadata": {
    "collapsed": true
   },
   "outputs": [],
   "source": []
  },
  {
   "cell_type": "code",
   "execution_count": null,
   "metadata": {
    "collapsed": true
   },
   "outputs": [],
   "source": []
  }
 ],
 "metadata": {
  "anaconda-cloud": {},
  "kernelspec": {
   "display_name": "Python [default]",
   "language": "python",
   "name": "python3"
  },
  "language_info": {
   "codemirror_mode": {
    "name": "ipython",
    "version": 3
   },
   "file_extension": ".py",
   "mimetype": "text/x-python",
   "name": "python",
   "nbconvert_exporter": "python",
   "pygments_lexer": "ipython3",
   "version": "3.5.2"
  }
 },
 "nbformat": 4,
 "nbformat_minor": 0
}
