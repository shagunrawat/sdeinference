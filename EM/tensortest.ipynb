{
 "cells": [
  {
   "cell_type": "code",
   "execution_count": 1,
   "metadata": {
    "collapsed": true
   },
   "outputs": [],
   "source": [
    "import numpy as np\n",
    "import scipy.stats"
   ]
  },
  {
   "cell_type": "code",
   "execution_count": 2,
   "metadata": {
    "collapsed": false
   },
   "outputs": [],
   "source": [
    "import tensorflow as tf"
   ]
  },
  {
   "cell_type": "code",
   "execution_count": 3,
   "metadata": {
    "collapsed": true
   },
   "outputs": [],
   "source": [
    "M = 5\n",
    "N = 2\n",
    "T = 3\n",
    "h = 2\n",
    "s = 3"
   ]
  },
  {
   "cell_type": "code",
   "execution_count": 4,
   "metadata": {
    "collapsed": true
   },
   "outputs": [],
   "source": [
    "A_np = np.random.randn(M, h)\n",
    "C_np = np.random.randn(s, T)\n",
    "B_np = np.random.randn(h, N, s)"
   ]
  },
  {
   "cell_type": "code",
   "execution_count": 5,
   "metadata": {
    "collapsed": false
   },
   "outputs": [
    {
     "name": "stdout",
     "output_type": "stream",
     "text": [
      "[[ 0.05825791  1.48698437]\n",
      " [-1.43003367  0.71842057]\n",
      " [-0.42091422 -0.4881037 ]\n",
      " [-0.05220967  1.14356714]\n",
      " [-0.6310334  -0.04739766]]\n",
      "[[[-0.38047844 -1.07159392 -0.15721609]\n",
      "  [-1.27471406  0.38387734 -1.84856537]]\n",
      "\n",
      " [[-1.31405464 -0.84038003 -0.19862652]\n",
      "  [ 0.63067744 -0.93616276  0.61569205]]]\n"
     ]
    },
    {
     "data": {
      "text/plain": [
       "array([[[-1.9761446 , -1.31206081, -0.30451361],\n",
       "        [ 0.86354531, -1.3696955 ,  0.8078309 ]],\n",
       "\n",
       "       [[-0.39994689,  0.92866909,  0.08212693],\n",
       "        [ 2.27597567, -1.2215161 ,  3.08583656]],\n",
       "\n",
       "       [[ 0.80154372,  0.86124173,  0.16312483],\n",
       "        [ 0.22870928,  0.29536508,  0.47756589]],\n",
       "\n",
       "       [[-1.48284504, -0.90508342, -0.21893456],\n",
       "        [ 0.7877744 , -1.09060707,  0.80059819]],\n",
       "\n",
       "       [[ 0.30237773,  0.71604361,  0.10862304],\n",
       "        [ 0.77449451, -0.1978675 ,  1.13732413]]])"
      ]
     },
     "execution_count": 5,
     "metadata": {},
     "output_type": "execute_result"
    }
   ],
   "source": [
    "print(A_np)\n",
    "print(B_np)\n",
    "np.tensordot(A_np, B_np, axes=1)"
   ]
  },
  {
   "cell_type": "code",
   "execution_count": 6,
   "metadata": {
    "collapsed": false
   },
   "outputs": [],
   "source": [
    "A_tf = tf.Variable(A_np)\n",
    "C_tf = tf.Variable(C_np)\n",
    "B_tf = tf.Variable(B_np)"
   ]
  },
  {
   "cell_type": "code",
   "execution_count": 7,
   "metadata": {
    "collapsed": false
   },
   "outputs": [],
   "source": [
    "AB_tf = tf.tensordot(A_tf, B_tf,axes = [[1], [0]])\n",
    "sess = tf.Session()\n",
    "sess.run(tf.global_variables_initializer())\n",
    "AB = sess.run(AB_tf)"
   ]
  },
  {
   "cell_type": "code",
   "execution_count": 8,
   "metadata": {
    "collapsed": false
   },
   "outputs": [
    {
     "name": "stdout",
     "output_type": "stream",
     "text": [
      "[[[-1.9761446  -1.31206081 -0.30451361]\n",
      "  [ 0.86354531 -1.3696955   0.8078309 ]]\n",
      "\n",
      " [[-0.39994689  0.92866909  0.08212693]\n",
      "  [ 2.27597567 -1.2215161   3.08583656]]\n",
      "\n",
      " [[ 0.80154372  0.86124173  0.16312483]\n",
      "  [ 0.22870928  0.29536508  0.47756589]]\n",
      "\n",
      " [[-1.48284504 -0.90508342 -0.21893456]\n",
      "  [ 0.7877744  -1.09060707  0.80059819]]\n",
      "\n",
      " [[ 0.30237773  0.71604361  0.10862304]\n",
      "  [ 0.77449451 -0.1978675   1.13732413]]]\n"
     ]
    }
   ],
   "source": [
    "print(AB)"
   ]
  },
  {
   "cell_type": "code",
   "execution_count": 9,
   "metadata": {
    "collapsed": false
   },
   "outputs": [],
   "source": [
    "AB_tf_C_tf = tf.tensordot(AB_tf, C_tf, axes=[[2], [1]])\n",
    "ABC = sess.run(AB_tf_C_tf)"
   ]
  },
  {
   "cell_type": "code",
   "execution_count": 10,
   "metadata": {
    "collapsed": false,
    "scrolled": true
   },
   "outputs": [
    {
     "name": "stdout",
     "output_type": "stream",
     "text": [
      "[[[-0.69020712  1.61714288  4.21016331]\n",
      "  [-1.26572594  0.62281008  2.92806464]]\n",
      "\n",
      " [[ 0.8715957   0.03801363 -1.85881149]\n",
      "  [-1.25585848  1.69539571  2.55832308]]\n",
      "\n",
      " [[ 0.55860705 -0.73563695 -2.4546514 ]\n",
      "  [ 0.2379332   0.17980421 -0.64601213]]\n",
      "\n",
      " [[-0.45063165  1.19421437  2.97883543]\n",
      "  [-1.01627589  0.57174862  2.32791957]]\n",
      "\n",
      " [[ 0.5419611  -0.37226233 -1.81391252]\n",
      "  [-0.23767363  0.58184392  0.4001349 ]]]\n"
     ]
    }
   ],
   "source": [
    "print(ABC)"
   ]
  },
  {
   "cell_type": "code",
   "execution_count": 11,
   "metadata": {
    "collapsed": true
   },
   "outputs": [],
   "source": [
    "def f(theta, x, returngrad=False):\n",
    "    fval = (theta[0])*(theta[1] - x)\n",
    "    if returngrad==False:\n",
    "        return fval\n",
    "    else:\n",
    "        if (np.isscalar(x)):\n",
    "            xshape = ()\n",
    "        else:\n",
    "            xshape = x.shape\n",
    "        dfdtheta = np.zeros(theta.shape + xshape)\n",
    "        # want this to broadcast correctly regardless of whether x is a matrix or vector\n",
    "        dfdtheta[0,...] = fval/theta[0]\n",
    "        dfdtheta[1,...] = theta[0]\n",
    "        dfdtheta[2,...] = 0\n",
    "        return fval, dfdtheta\n",
    "    \n",
    "def g(theta, x, returngrad=False):\n",
    "    if (np.isscalar(x)):\n",
    "        xshape = ()\n",
    "        gval = theta[2]\n",
    "    else:\n",
    "        xshape = x.shape\n",
    "        gval = np.ones(xshape)*theta[2]\n",
    "        \n",
    "    if returngrad==False:\n",
    "        return gval\n",
    "    else:\n",
    "        dgdtheta = np.zeros(theta.shape + xshape)\n",
    "        # want this to broadcast correctly regardless of whether x is a matrix or vector\n",
    "        dgdtheta[0,...] = 0\n",
    "        dgdtheta[1,...] = 0\n",
    "        dgdtheta[2,...] = 1\n",
    "        return gval, dgdtheta"
   ]
  },
  {
   "cell_type": "code",
   "execution_count": 12,
   "metadata": {
    "collapsed": false
   },
   "outputs": [],
   "source": [
    "theta = 0.5\n",
    "omtheta = 1.-theta\n",
    "alpha = np.zeros(2)\n",
    "alpha[0] = 0.5/(theta*omtheta)\n",
    "alpha[1] = alpha[0]*(omtheta*omtheta + theta*theta)"
   ]
  },
  {
   "cell_type": "code",
   "execution_count": 13,
   "metadata": {
    "collapsed": false
   },
   "outputs": [],
   "source": [
    "M = 10\n",
    "k = 0.5\n",
    "grid = np.arange(-M,(M+1))*k\n",
    "yim1 = grid.copy()\n",
    "h = 0.5"
   ]
  },
  {
   "cell_type": "code",
   "execution_count": 14,
   "metadata": {
    "collapsed": false
   },
   "outputs": [],
   "source": [
    "# play with sparse tensors a bit\n",
    "N = 2*M+1\n",
    "ind0 = np.arange(0,N)\n",
    "ind = np.repeat(np.array([ind0]).T,3,axis=1)\n",
    "val = np.repeat(1,N)\n",
    "ds = [N,N,N]"
   ]
  },
  {
   "cell_type": "code",
   "execution_count": 15,
   "metadata": {
    "collapsed": false
   },
   "outputs": [],
   "source": [
    "test = tf.SparseTensor(indices=ind,values=val,dense_shape=ds)"
   ]
  },
  {
   "cell_type": "code",
   "execution_count": 16,
   "metadata": {
    "collapsed": false
   },
   "outputs": [
    {
     "ename": "NameError",
     "evalue": "name 'testd' is not defined",
     "output_type": "error",
     "traceback": [
      "\u001b[0;31m---------------------------------------------------------------------------\u001b[0m",
      "\u001b[0;31mNameError\u001b[0m                                 Traceback (most recent call last)",
      "\u001b[0;32m<ipython-input-16-2798e394c026>\u001b[0m in \u001b[0;36m<module>\u001b[0;34m()\u001b[0m\n\u001b[0;32m----> 1\u001b[0;31m \u001b[0mtestsparse\u001b[0m \u001b[0;34m=\u001b[0m \u001b[0msess\u001b[0m\u001b[0;34m.\u001b[0m\u001b[0mrun\u001b[0m\u001b[0;34m(\u001b[0m\u001b[0mtestd\u001b[0m\u001b[0;34m)\u001b[0m\u001b[0;34m\u001b[0m\u001b[0m\n\u001b[0m",
      "\u001b[0;31mNameError\u001b[0m: name 'testd' is not defined"
     ]
    }
   ],
   "source": [
    "testsparse = sess.run(testd)"
   ]
  },
  {
   "cell_type": "code",
   "execution_count": 17,
   "metadata": {
    "collapsed": false
   },
   "outputs": [],
   "source": [
    "col1 = np.ones((N,1))\n",
    "colr = np.array([np.arange(0,N)]).T"
   ]
  },
  {
   "cell_type": "code",
   "execution_count": 18,
   "metadata": {
    "collapsed": false
   },
   "outputs": [],
   "source": [
    "# create the sparse A tensor\n",
    "ds = [N,N,N]\n",
    "val = []\n",
    "ind = np.zeros((0,3))\n",
    "tol = N\n",
    "th = np.array([1.,0.5,0.75])\n",
    "col1 = np.ones((N,1))\n",
    "colr = np.array([np.arange(0,N)]).T\n",
    "for i in range(N):\n",
    "    for j in range(N):\n",
    "        if (abs(i-j) > tol):\n",
    "            continue\n",
    "            \n",
    "        yi = grid[i]\n",
    "        ystar = grid[j]\n",
    "        mv = ystar + (alpha[0]*f(th,ystar) - alpha[1]*f(th,yim1))*omtheta*h\n",
    "        g2star = np.square(g(th,ystar))\n",
    "        g2m1 = np.square(g(th,yim1))\n",
    "        vv = np.maximum(0, alpha[0]*g2star - alpha[1]*g2m1)*omtheta*h\n",
    "        thesevals = scipy.stats.norm.pdf(x=yi, loc=mv, scale=np.sqrt(vv))\n",
    "        indblock = np.hstack([i*col1,j*col1,colr])\n",
    "        ind = np.vstack([ind, indblock])\n",
    "        val.append(thesevals.tolist())"
   ]
  },
  {
   "cell_type": "code",
   "execution_count": 19,
   "metadata": {
    "collapsed": false
   },
   "outputs": [],
   "source": [
    "val = np.array(val).flatten()"
   ]
  },
  {
   "cell_type": "code",
   "execution_count": 20,
   "metadata": {
    "collapsed": false
   },
   "outputs": [],
   "source": [
    "test = tf.SparseTensor(indices=ind,values=val,dense_shape=ds)"
   ]
  },
  {
   "cell_type": "code",
   "execution_count": 21,
   "metadata": {
    "collapsed": true
   },
   "outputs": [],
   "source": [
    "testsparse = sess.run(test)"
   ]
  },
  {
   "cell_type": "code",
   "execution_count": null,
   "metadata": {
    "collapsed": true
   },
   "outputs": [],
   "source": []
  },
  {
   "cell_type": "code",
   "execution_count": null,
   "metadata": {
    "collapsed": true
   },
   "outputs": [],
   "source": []
  },
  {
   "cell_type": "code",
   "execution_count": null,
   "metadata": {
    "collapsed": true
   },
   "outputs": [],
   "source": []
  }
 ],
 "metadata": {
  "kernelspec": {
   "display_name": "Python 3",
   "language": "python",
   "name": "python3"
  },
  "language_info": {
   "codemirror_mode": {
    "name": "ipython",
    "version": 3
   },
   "file_extension": ".py",
   "mimetype": "text/x-python",
   "name": "python",
   "nbconvert_exporter": "python",
   "pygments_lexer": "ipython3",
   "version": "3.6.0"
  }
 },
 "nbformat": 4,
 "nbformat_minor": 0
}
