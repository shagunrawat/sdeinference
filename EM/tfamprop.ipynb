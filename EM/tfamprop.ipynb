{
 "cells": [
  {
   "cell_type": "code",
   "execution_count": 1,
   "metadata": {
    "collapsed": true
   },
   "outputs": [],
   "source": [
    "import numpy as np\n",
    "import scipy.stats"
   ]
  },
  {
   "cell_type": "code",
   "execution_count": 2,
   "metadata": {
    "collapsed": false
   },
   "outputs": [
    {
     "ename": "ImportError",
     "evalue": "Traceback (most recent call last):\n  File \"/data/anaconda3/lib/python3.5/site-packages/tensorflow/python/__init__.py\", line 61, in <module>\n    from tensorflow.python import pywrap_tensorflow\n  File \"/data/anaconda3/lib/python3.5/site-packages/tensorflow/python/pywrap_tensorflow.py\", line 28, in <module>\n    _pywrap_tensorflow = swig_import_helper()\n  File \"/data/anaconda3/lib/python3.5/site-packages/tensorflow/python/pywrap_tensorflow.py\", line 24, in swig_import_helper\n    _mod = imp.load_module('_pywrap_tensorflow', fp, pathname, description)\n  File \"/data/anaconda3/lib/python3.5/imp.py\", line 242, in load_module\n    return load_dynamic(name, filename, file)\n  File \"/data/anaconda3/lib/python3.5/imp.py\", line 342, in load_dynamic\n    return _load(spec)\nImportError: /lib64/libc.so.6: version `GLIBC_2.16' not found (required by /data/anaconda3/lib/python3.5/site-packages/tensorflow/python/_pywrap_tensorflow.so)\n\n\nFailed to load the native TensorFlow runtime.\n\nSee https://github.com/tensorflow/tensorflow/blob/master/tensorflow/g3doc/get_started/os_setup.md#import_error\n\nfor some common reasons and solutions.  Include the entire stack trace\nabove this error message when asking for help.",
     "output_type": "error",
     "traceback": [
      "\u001b[0;31m---------------------------------------------------------------------------\u001b[0m",
      "\u001b[0;31mImportError\u001b[0m                               Traceback (most recent call last)",
      "\u001b[0;32m/data/anaconda3/lib/python3.5/site-packages/tensorflow/python/__init__.py\u001b[0m in \u001b[0;36m<module>\u001b[0;34m()\u001b[0m\n\u001b[1;32m     60\u001b[0m     \u001b[0msys\u001b[0m\u001b[0;34m.\u001b[0m\u001b[0msetdlopenflags\u001b[0m\u001b[0;34m(\u001b[0m\u001b[0m_default_dlopen_flags\u001b[0m \u001b[0;34m|\u001b[0m \u001b[0mctypes\u001b[0m\u001b[0;34m.\u001b[0m\u001b[0mRTLD_GLOBAL\u001b[0m\u001b[0;34m)\u001b[0m\u001b[0;34m\u001b[0m\u001b[0m\n\u001b[0;32m---> 61\u001b[0;31m     \u001b[0;32mfrom\u001b[0m \u001b[0mtensorflow\u001b[0m\u001b[0;34m.\u001b[0m\u001b[0mpython\u001b[0m \u001b[0;32mimport\u001b[0m \u001b[0mpywrap_tensorflow\u001b[0m\u001b[0;34m\u001b[0m\u001b[0m\n\u001b[0m\u001b[1;32m     62\u001b[0m     \u001b[0msys\u001b[0m\u001b[0;34m.\u001b[0m\u001b[0msetdlopenflags\u001b[0m\u001b[0;34m(\u001b[0m\u001b[0m_default_dlopen_flags\u001b[0m\u001b[0;34m)\u001b[0m\u001b[0;34m\u001b[0m\u001b[0m\n",
      "\u001b[0;32m/data/anaconda3/lib/python3.5/site-packages/tensorflow/python/pywrap_tensorflow.py\u001b[0m in \u001b[0;36m<module>\u001b[0;34m()\u001b[0m\n\u001b[1;32m     27\u001b[0m             \u001b[0;32mreturn\u001b[0m \u001b[0m_mod\u001b[0m\u001b[0;34m\u001b[0m\u001b[0m\n\u001b[0;32m---> 28\u001b[0;31m     \u001b[0m_pywrap_tensorflow\u001b[0m \u001b[0;34m=\u001b[0m \u001b[0mswig_import_helper\u001b[0m\u001b[0;34m(\u001b[0m\u001b[0;34m)\u001b[0m\u001b[0;34m\u001b[0m\u001b[0m\n\u001b[0m\u001b[1;32m     29\u001b[0m     \u001b[0;32mdel\u001b[0m \u001b[0mswig_import_helper\u001b[0m\u001b[0;34m\u001b[0m\u001b[0m\n",
      "\u001b[0;32m/data/anaconda3/lib/python3.5/site-packages/tensorflow/python/pywrap_tensorflow.py\u001b[0m in \u001b[0;36mswig_import_helper\u001b[0;34m()\u001b[0m\n\u001b[1;32m     23\u001b[0m             \u001b[0;32mtry\u001b[0m\u001b[0;34m:\u001b[0m\u001b[0;34m\u001b[0m\u001b[0m\n\u001b[0;32m---> 24\u001b[0;31m                 \u001b[0m_mod\u001b[0m \u001b[0;34m=\u001b[0m \u001b[0mimp\u001b[0m\u001b[0;34m.\u001b[0m\u001b[0mload_module\u001b[0m\u001b[0;34m(\u001b[0m\u001b[0;34m'_pywrap_tensorflow'\u001b[0m\u001b[0;34m,\u001b[0m \u001b[0mfp\u001b[0m\u001b[0;34m,\u001b[0m \u001b[0mpathname\u001b[0m\u001b[0;34m,\u001b[0m \u001b[0mdescription\u001b[0m\u001b[0;34m)\u001b[0m\u001b[0;34m\u001b[0m\u001b[0m\n\u001b[0m\u001b[1;32m     25\u001b[0m             \u001b[0;32mfinally\u001b[0m\u001b[0;34m:\u001b[0m\u001b[0;34m\u001b[0m\u001b[0m\n",
      "\u001b[0;32m/data/anaconda3/lib/python3.5/imp.py\u001b[0m in \u001b[0;36mload_module\u001b[0;34m(name, file, filename, details)\u001b[0m\n\u001b[1;32m    241\u001b[0m         \u001b[0;32melse\u001b[0m\u001b[0;34m:\u001b[0m\u001b[0;34m\u001b[0m\u001b[0m\n\u001b[0;32m--> 242\u001b[0;31m             \u001b[0;32mreturn\u001b[0m \u001b[0mload_dynamic\u001b[0m\u001b[0;34m(\u001b[0m\u001b[0mname\u001b[0m\u001b[0;34m,\u001b[0m \u001b[0mfilename\u001b[0m\u001b[0;34m,\u001b[0m \u001b[0mfile\u001b[0m\u001b[0;34m)\u001b[0m\u001b[0;34m\u001b[0m\u001b[0m\n\u001b[0m\u001b[1;32m    243\u001b[0m     \u001b[0;32melif\u001b[0m \u001b[0mtype_\u001b[0m \u001b[0;34m==\u001b[0m \u001b[0mPKG_DIRECTORY\u001b[0m\u001b[0;34m:\u001b[0m\u001b[0;34m\u001b[0m\u001b[0m\n",
      "\u001b[0;32m/data/anaconda3/lib/python3.5/imp.py\u001b[0m in \u001b[0;36mload_dynamic\u001b[0;34m(name, path, file)\u001b[0m\n\u001b[1;32m    341\u001b[0m             name=name, loader=loader, origin=path)\n\u001b[0;32m--> 342\u001b[0;31m         \u001b[0;32mreturn\u001b[0m \u001b[0m_load\u001b[0m\u001b[0;34m(\u001b[0m\u001b[0mspec\u001b[0m\u001b[0;34m)\u001b[0m\u001b[0;34m\u001b[0m\u001b[0m\n\u001b[0m\u001b[1;32m    343\u001b[0m \u001b[0;34m\u001b[0m\u001b[0m\n",
      "\u001b[0;31mImportError\u001b[0m: /lib64/libc.so.6: version `GLIBC_2.16' not found (required by /data/anaconda3/lib/python3.5/site-packages/tensorflow/python/_pywrap_tensorflow.so)",
      "\nDuring handling of the above exception, another exception occurred:\n",
      "\u001b[0;31mImportError\u001b[0m                               Traceback (most recent call last)",
      "\u001b[0;32m<ipython-input-2-333f8b95146a>\u001b[0m in \u001b[0;36m<module>\u001b[0;34m()\u001b[0m\n\u001b[0;32m----> 1\u001b[0;31m \u001b[0;32mimport\u001b[0m \u001b[0mtensorflow\u001b[0m \u001b[0;32mas\u001b[0m \u001b[0mtf\u001b[0m\u001b[0;34m\u001b[0m\u001b[0m\n\u001b[0m\u001b[1;32m      2\u001b[0m \u001b[0;32mfrom\u001b[0m \u001b[0mnumba\u001b[0m \u001b[0;32mimport\u001b[0m \u001b[0mjit\u001b[0m\u001b[0;34m\u001b[0m\u001b[0m\n",
      "\u001b[0;32m/data/anaconda3/lib/python3.5/site-packages/tensorflow/__init__.py\u001b[0m in \u001b[0;36m<module>\u001b[0;34m()\u001b[0m\n\u001b[1;32m     22\u001b[0m \u001b[0;34m\u001b[0m\u001b[0m\n\u001b[1;32m     23\u001b[0m \u001b[0;31m# pylint: disable=wildcard-import\u001b[0m\u001b[0;34m\u001b[0m\u001b[0;34m\u001b[0m\u001b[0m\n\u001b[0;32m---> 24\u001b[0;31m \u001b[0;32mfrom\u001b[0m \u001b[0mtensorflow\u001b[0m\u001b[0;34m.\u001b[0m\u001b[0mpython\u001b[0m \u001b[0;32mimport\u001b[0m \u001b[0;34m*\u001b[0m\u001b[0;34m\u001b[0m\u001b[0m\n\u001b[0m\u001b[1;32m     25\u001b[0m \u001b[0;31m# pylint: enable=wildcard-import\u001b[0m\u001b[0;34m\u001b[0m\u001b[0;34m\u001b[0m\u001b[0m\n\u001b[1;32m     26\u001b[0m \u001b[0;34m\u001b[0m\u001b[0m\n",
      "\u001b[0;32m/data/anaconda3/lib/python3.5/site-packages/tensorflow/python/__init__.py\u001b[0m in \u001b[0;36m<module>\u001b[0;34m()\u001b[0m\n\u001b[1;32m     70\u001b[0m \u001b[0;32mfor\u001b[0m \u001b[0msome\u001b[0m \u001b[0mcommon\u001b[0m \u001b[0mreasons\u001b[0m \u001b[0;32mand\u001b[0m \u001b[0msolutions\u001b[0m\u001b[0;34m.\u001b[0m  \u001b[0mInclude\u001b[0m \u001b[0mthe\u001b[0m \u001b[0mentire\u001b[0m \u001b[0mstack\u001b[0m \u001b[0mtrace\u001b[0m\u001b[0;34m\u001b[0m\u001b[0m\n\u001b[1;32m     71\u001b[0m above this error message when asking for help.\"\"\" % traceback.format_exc()\n\u001b[0;32m---> 72\u001b[0;31m   \u001b[0;32mraise\u001b[0m \u001b[0mImportError\u001b[0m\u001b[0;34m(\u001b[0m\u001b[0mmsg\u001b[0m\u001b[0;34m)\u001b[0m\u001b[0;34m\u001b[0m\u001b[0m\n\u001b[0m\u001b[1;32m     73\u001b[0m \u001b[0;34m\u001b[0m\u001b[0m\n\u001b[1;32m     74\u001b[0m \u001b[0;31m# Protocol buffers\u001b[0m\u001b[0;34m\u001b[0m\u001b[0;34m\u001b[0m\u001b[0m\n",
      "\u001b[0;31mImportError\u001b[0m: Traceback (most recent call last):\n  File \"/data/anaconda3/lib/python3.5/site-packages/tensorflow/python/__init__.py\", line 61, in <module>\n    from tensorflow.python import pywrap_tensorflow\n  File \"/data/anaconda3/lib/python3.5/site-packages/tensorflow/python/pywrap_tensorflow.py\", line 28, in <module>\n    _pywrap_tensorflow = swig_import_helper()\n  File \"/data/anaconda3/lib/python3.5/site-packages/tensorflow/python/pywrap_tensorflow.py\", line 24, in swig_import_helper\n    _mod = imp.load_module('_pywrap_tensorflow', fp, pathname, description)\n  File \"/data/anaconda3/lib/python3.5/imp.py\", line 242, in load_module\n    return load_dynamic(name, filename, file)\n  File \"/data/anaconda3/lib/python3.5/imp.py\", line 342, in load_dynamic\n    return _load(spec)\nImportError: /lib64/libc.so.6: version `GLIBC_2.16' not found (required by /data/anaconda3/lib/python3.5/site-packages/tensorflow/python/_pywrap_tensorflow.so)\n\n\nFailed to load the native TensorFlow runtime.\n\nSee https://github.com/tensorflow/tensorflow/blob/master/tensorflow/g3doc/get_started/os_setup.md#import_error\n\nfor some common reasons and solutions.  Include the entire stack trace\nabove this error message when asking for help."
     ]
    }
   ],
   "source": [
    "import tensorflow as tf\n",
    "from numba import jit"
   ]
  },
  {
   "cell_type": "code",
   "execution_count": 3,
   "metadata": {
    "collapsed": false
   },
   "outputs": [],
   "source": [
    "sess = tf.Session()\n",
    "sess.run(tf.global_variables_initializer())"
   ]
  },
  {
   "cell_type": "code",
   "execution_count": 4,
   "metadata": {
    "collapsed": true
   },
   "outputs": [],
   "source": [
    "@jit\n",
    "def f(theta, x, returngrad=False):\n",
    "    fval = (theta[0])*(theta[1] - x)\n",
    "    if returngrad==False:\n",
    "        return fval\n",
    "    else:\n",
    "        if (np.isscalar(x)):\n",
    "            xshape = ()\n",
    "        else:\n",
    "            xshape = x.shape\n",
    "        dfdtheta = np.zeros(theta.shape + xshape)\n",
    "        # want this to broadcast correctly regardless of whether x is a matrix or vector\n",
    "        dfdtheta[0,...] = fval/theta[0]\n",
    "        dfdtheta[1,...] = theta[0]\n",
    "        dfdtheta[2,...] = 0\n",
    "        return fval, dfdtheta\n",
    "    \n",
    "@jit\n",
    "def g(theta, x, returngrad=False):\n",
    "    if (np.isscalar(x)):\n",
    "        xshape = ()\n",
    "        gval = theta[2]\n",
    "    else:\n",
    "        xshape = x.shape\n",
    "        gval = np.ones(xshape)*theta[2]\n",
    "        \n",
    "    if returngrad==False:\n",
    "        return gval\n",
    "    else:\n",
    "        dgdtheta = np.zeros(theta.shape + xshape)\n",
    "        # want this to broadcast correctly regardless of whether x is a matrix or vector\n",
    "        dgdtheta[0,...] = 0\n",
    "        dgdtheta[1,...] = 0\n",
    "        dgdtheta[2,...] = 1\n",
    "        return gval, dgdtheta"
   ]
  },
  {
   "cell_type": "code",
   "execution_count": 5,
   "metadata": {
    "collapsed": false
   },
   "outputs": [],
   "source": [
    "# create the sparse A and B tensors\n",
    "# this is a pure Python and Numpy function\n",
    "# and therefore can be accelerated with Numba's JIT compiler\n",
    "@jit\n",
    "def createAB(M, k, h, tol=np.inf):\n",
    "    AMtheta = 0.5\n",
    "    omtheta = 1.-AMtheta\n",
    "    alpha = np.zeros(2)\n",
    "    alpha[0] = 0.5/(AMtheta*omtheta)\n",
    "    alpha[1] = alpha[0]*(omtheta*omtheta + AMtheta*AMtheta)\n",
    "    grid = np.arange(-M,(M+1))*k\n",
    "    # N = 2*M+1\n",
    "    N = len(grid)\n",
    "    outAval = np.zeros(1)\n",
    "    outAind = np.zeros((1,3),dtype='int64')\n",
    "    Aval = [outAval]\n",
    "    Aind = [outAind]\n",
    "    th = np.array([1.,0.5,0.75])\n",
    "    fvec = f(th, grid)\n",
    "    gvec = g(th, grid)\n",
    "    g2m1 = np.square(gvec)\n",
    "    col1 = np.ones((N,1),dtype='int64')\n",
    "    colr = np.array([np.arange(0,N,dtype='int64')]).T\n",
    "    for i in range(N):\n",
    "        for j in range(N):\n",
    "            if (abs(i-j) > tol):\n",
    "                continue\n",
    "\n",
    "            yi = grid[i]\n",
    "            ystar = grid[j]\n",
    "            mv = ystar + (alpha[0]*f(th,ystar) - alpha[1]*fvec)*omtheta*h\n",
    "            g2star = np.square(g(th,ystar))\n",
    "            vv = np.maximum(0, alpha[0]*g2star - alpha[1]*g2m1)*omtheta*h\n",
    "            thesevals = scipy.stats.norm.pdf(x=yi, loc=mv, scale=np.sqrt(vv))\n",
    "            indblock = np.hstack([i*col1,j*col1,colr])\n",
    "            Aind.append(indblock)\n",
    "            Aval.append(thesevals)\n",
    "    \n",
    "    outAind = np.vstack(Aind[1:])\n",
    "    outAval = np.hstack(Aval[1:])\n",
    "\n",
    "    Bds = [N,N]\n",
    "    Bind = np.zeros((0,2))\n",
    "    thisvar = g2m1*AMtheta*h\n",
    "    c0mod = 1./np.sqrt(2.0*np.pi*thisvar)\n",
    "    propvals = np.exp(-(AMtheta*h/2.0)*np.square(fvec)/g2m1) * c0mod\n",
    "    Bval = [propvals]\n",
    "    indblock = np.hstack([colr, colr])\n",
    "    Bind = [np.vstack([Bind, indblock])]\n",
    "\n",
    "    for curdiag in np.arange(1,N):\n",
    "        thislen = N - curdiag\n",
    "        mymean = curdiag*k + fvec*h*AMtheta\n",
    "        thisdiag = np.exp(-np.square(mymean)/(2.0*thisvar)) * c0mod\n",
    "        thisdiag = thisdiag[-thislen:]\n",
    "        indblock = np.hstack([colr[:(N-curdiag)],(colr[:(N-curdiag)]+curdiag)])\n",
    "        Bind.append(indblock) \n",
    "        Bval.append(thisdiag) \n",
    "\n",
    "    for curdiag in np.arange(1,N):\n",
    "        thislen = N - curdiag\n",
    "        mymean = -curdiag*k + fvec*h*AMtheta\n",
    "        thisdiag = np.exp(-np.square(mymean)/(2.0*thisvar)) * c0mod\n",
    "        thisdiag = thisdiag[:thislen]\n",
    "        indblock = np.hstack([(colr[:(N-curdiag)]+curdiag),colr[:(N-curdiag)]])\n",
    "        Bind.append(indblock) \n",
    "        Bval.append(thisdiag) \n",
    "\n",
    "    outBind = np.vstack(Bind)\n",
    "    outBval = np.hstack(Bval)\n",
    "    \n",
    "    return outAind, outAval, outBind, outBval"
   ]
  },
  {
   "cell_type": "code",
   "execution_count": 6,
   "metadata": {
    "collapsed": false
   },
   "outputs": [],
   "source": [
    "# create the Anderon-Mattingly propagator\n",
    "def computeAMprop(Aind, Aval, Bden):\n",
    "    sortAind = np.argsort(Aind[:,2])\n",
    "    newAind = Aind[sortAind,:]\n",
    "    newAval = np.array(Aval)\n",
    "    newAval = newAval[sortAind]\n",
    "    mypropcols = []\n",
    "    startind = 0\n",
    "    thisds = [N,N]\n",
    "    for j in range(N):\n",
    "        if j==(N-1):\n",
    "            endind = len(Aval)\n",
    "        else:\n",
    "            endind = np.searchsorted(newAind[:,2],(j+1))\n",
    "\n",
    "        thesevals = newAval[startind:endind]\n",
    "        theseinds = newAind[startind:endind,0:2]\n",
    "        thisten = tf.SparseTensor(indices=theseinds,values=thesevals,dense_shape=thisds)\n",
    "        newcolumn = k*tf.sparse_tensor_dense_matmul(thisten, tf.slice(Bden, [0,j], [N,1]))\n",
    "        mypropcols.append(newcolumn[:,0])\n",
    "        startind = endind\n",
    "\n",
    "    myprop = tf.stack(mypropcols)\n",
    "    return myprop\n"
   ]
  },
  {
   "cell_type": "code",
   "execution_count": 12,
   "metadata": {
    "collapsed": false
   },
   "outputs": [],
   "source": [
    "# wasteful way where we first compute a massive tensor dot product and then essentially pull out diagonals\n",
    "# Ads = [N,N,N]\n",
    "# Aten = tf.SparseTensor(indices=Aind,values=Aval,dense_shape=Ads)\n",
    "# propten = k*tf.tensordot(tf.sparse_tensor_to_dense(Aten,validate_indices=False), Bden, axes = [[1], [0]])\n",
    "# propden = sess.run(propten)\n",
    "# actprop = np.zeros((N,N))\n",
    "# for j in range(N):\n",
    "#     actprop[j] = np.diag(propden[j])"
   ]
  },
  {
   "cell_type": "code",
   "execution_count": 11,
   "metadata": {
    "collapsed": false
   },
   "outputs": [],
   "source": [
    "M = 20\n",
    "N = 2*M+1\n",
    "k = 0.20\n",
    "h = 0.5\n",
    "Aind, Aval, Bind, Bval = createAB(M, k, h)\n",
    "Bds = [N, N]\n",
    "Bten = tf.SparseTensor(indices=Bind,values=Bval,dense_shape=Bds)\n",
    "Bden = tf.sparse_tensor_to_dense(Bten,validate_indices=False)\n",
    "prop = computeAMprop(Aind, Aval, Bden)\n",
    "\n",
    "# check normalization\n",
    "sess.run(tf.reduce_sum(prop,axis=1))*k\n",
    "npprop = sess.run(prop)"
   ]
  },
  {
   "cell_type": "code",
   "execution_count": 12,
   "metadata": {
    "collapsed": false
   },
   "outputs": [
    {
     "name": "stdout",
     "output_type": "stream",
     "text": [
      "[  2.75e-04   8.12e-05   2.17e-05   5.26e-06   1.16e-06   2.36e-07\n",
      "   4.35e-08   7.36e-09   1.14e-09   1.61e-10   2.08e-11   2.47e-12\n",
      "   2.67e-13   2.65e-14   2.41e-15   2.00e-16   1.52e-17   1.05e-18\n",
      "   6.70e-20   3.90e-21   2.07e-22   1.01e-23   4.50e-25   1.83e-26\n",
      "   6.84e-28   2.33e-29   7.29e-31   2.08e-32   5.44e-34   1.30e-35\n",
      "   2.85e-37   5.70e-39   1.04e-40   1.75e-42   2.68e-44   3.76e-46\n",
      "   4.83e-48   5.67e-50   6.09e-52   5.99e-54   5.39e-56]\n"
     ]
    }
   ],
   "source": [
    "np.set_printoptions(precision=2)\n",
    "print(npprop[:,0])"
   ]
  },
  {
   "cell_type": "code",
   "execution_count": null,
   "metadata": {
    "collapsed": true
   },
   "outputs": [],
   "source": []
  }
 ],
 "metadata": {
  "anaconda-cloud": {},
  "kernelspec": {
   "display_name": "Python [conda root]",
   "language": "python",
   "name": "conda-root-py"
  },
  "language_info": {
   "codemirror_mode": {
    "name": "ipython",
    "version": 3
   },
   "file_extension": ".py",
   "mimetype": "text/x-python",
   "name": "python",
   "nbconvert_exporter": "python",
   "pygments_lexer": "ipython3",
   "version": "3.5.2"
  }
 },
 "nbformat": 4,
 "nbformat_minor": 0
}
