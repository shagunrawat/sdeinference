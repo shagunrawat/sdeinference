{
 "cells": [
  {
   "cell_type": "code",
   "execution_count": 1,
   "metadata": {
    "collapsed": false
   },
   "outputs": [],
   "source": [
    "# make this calculation iterative\n",
    "# compare with the exact O-U solution\n",
    "# generalize to 2D\n",
    "# future work: incorporate Anderson-Mattingly propagator\n",
    "\n",
    "import sys\n",
    "sys.path.append(\"/usr/local/TSG/python\")\n",
    "import TasmanianSG\n",
    "import numpy as np\n",
    "import scipy.stats\n",
    "import matplotlib\n",
    "import matplotlib.pyplot as plt"
   ]
  },
  {
   "cell_type": "code",
   "execution_count": 23,
   "metadata": {
    "collapsed": false
   },
   "outputs": [],
   "source": [
    "grid = TasmanianSG.TasmanianSparseGrid()\n",
    "iDim = 2\n",
    "iLevel = 5"
   ]
  },
  {
   "cell_type": "code",
   "execution_count": 24,
   "metadata": {
    "collapsed": false
   },
   "outputs": [
    {
     "name": "stdout",
     "output_type": "stream",
     "text": [
      "(321, 2)\n"
     ]
    }
   ],
   "source": [
    "grid.makeGlobalGrid(iDim,0,iLevel,\"level\",\"gauss-patterson\",[])\n",
    "aPoints = grid.getPoints()\n",
    "aWeights = grid.getQuadratureWeights()\n",
    "reordering = np.argsort(aPoints[:,0])\n",
    "aPoints = aPoints[reordering]\n",
    "aWeights = aWeights[reordering]\n",
    "print(aPoints.shape)"
   ]
  },
  {
   "cell_type": "code",
   "execution_count": 25,
   "metadata": {
    "collapsed": false
   },
   "outputs": [
    {
     "data": {
      "text/plain": [
       "2.7755575615628914e-17"
      ]
     },
     "execution_count": 25,
     "metadata": {},
     "output_type": "execute_result"
    }
   ],
   "source": [
    "np.dot(aWeights,np.power(aPoints[:,0],4)*np.power(aPoints[:,1],4)) - 2/5*2/5"
   ]
  },
  {
   "cell_type": "code",
   "execution_count": 26,
   "metadata": {
    "collapsed": false
   },
   "outputs": [],
   "source": [
    "omega2 = 1\n",
    "nu = 0.25\n",
    "sigma = 0.5\n",
    "def f(x):\n",
    "    outmat = np.zeros(x.shape)\n",
    "    outmat[:,0] = x[:,1]\n",
    "    outmat[:,1] = -omega2*x[:,0] - nu*x[:,1]\n",
    "    return outmat\n",
    "\n",
    "def g(x):\n",
    "    return sigma*np.ones(x.shape)\n",
    "    "
   ]
  },
  {
   "cell_type": "code",
   "execution_count": 27,
   "metadata": {
    "collapsed": false
   },
   "outputs": [
    {
     "data": {
      "text/plain": [
       "16.0"
      ]
     },
     "execution_count": 27,
     "metadata": {},
     "output_type": "execute_result"
    }
   ],
   "source": [
    "ic = np.array([[1.0,0.0]])\n",
    "ft = 1.0\n",
    "numsteps = 20\n",
    "h = ft/numsteps\n",
    "\n",
    "# setting things up to integrate from -scaling to +scaling\n",
    "scaling = 2.0\n",
    "xgrid = scaling*aPoints\n",
    "xweights = scaling*scaling*aWeights\n",
    "\n",
    "np.sum(xweights)"
   ]
  },
  {
   "cell_type": "code",
   "execution_count": 28,
   "metadata": {
    "collapsed": false
   },
   "outputs": [],
   "source": [
    "# define kernel function that takes two vectors as input\n",
    "# warning: either x or y can be a matrix, but not both at the same time\n",
    "def G(x, y, h):\n",
    "    fval = f(y)\n",
    "    gval = np.abs(g(y))\n",
    "    mu = y + fval*h\n",
    "    sd = gval*np.sqrt(h)\n",
    "    return scipy.stats.norm.pdf(x, loc=mu, scale=sd)\n",
    "\n",
    "def kernel(x, y, h):\n",
    "    temp = G(x,y,h)\n",
    "    return (temp[:,0]*temp[:,1])\n",
    "\n",
    "#kernel = np.zeros(xweights.shape)\n",
    "#for i in np.arange(len(xweights)):\n",
    "#    test = G(xgrid[i,:],ic,h)\n",
    "#    kernel[i] = test[0]*test[1]\n",
    "\n",
    "def p(x):\n",
    "    return kernel(x,ic,h)\n"
   ]
  },
  {
   "cell_type": "code",
   "execution_count": 29,
   "metadata": {
    "collapsed": false
   },
   "outputs": [
    {
     "name": "stdout",
     "output_type": "stream",
     "text": [
      "1.3212128235\n"
     ]
    }
   ],
   "source": [
    "# check normalization of initial condition\n",
    "# remember, you need to evaluate on xgrid to do quadrature,\n",
    "# but you need to evaluate on collocgrid to do collocation\n",
    "p1 = p(xgrid)\n",
    "print(np.dot(xweights,p1))"
   ]
  },
  {
   "cell_type": "code",
   "execution_count": 30,
   "metadata": {
    "collapsed": false
   },
   "outputs": [],
   "source": [
    "endpt = scaling\n",
    "collocdim = int(np.sqrt(len(aWeights)))\n",
    "collocgrid = np.mgrid[-endpt:endpt:collocdim*1j, -endpt:endpt:collocdim*1j].reshape(2,-1).T"
   ]
  },
  {
   "cell_type": "code",
   "execution_count": 52,
   "metadata": {
    "collapsed": false
   },
   "outputs": [
    {
     "name": "stdout",
     "output_type": "stream",
     "text": [
      "0.0625\n",
      "\n"
     ]
    }
   ],
   "source": [
    "spacing = np.square(2.0*endpt/(collocdim-1))\n",
    "def psi(x):\n",
    "    temp = 1 - np.abs(x)\n",
    "    if (len(x.shape)==1):\n",
    "        temp[temp<0] = 0\n",
    "        return (temp[0]*temp[1])\n",
    "    else:        \n",
    "        temp[temp[:,0]<0,0] = 0\n",
    "        temp[temp[:,1]<0,1] = 0\n",
    "        return (temp[:,0]*temp[:,1])\n",
    "\n",
    "def phi(x,j):\n",
    "    return (psi((x - collocgrid[j,:])/spacing)/spacing)\n",
    "\n",
    "print(str(spacing) + \"\\n\")\n",
    "amat = np.zeros((len(collocgrid),len(collocgrid)))\n",
    "for j in np.arange(len(collocgrid)):\n",
    "    amat[:,j] = phi(collocgrid,j)"
   ]
  },
  {
   "cell_type": "code",
   "execution_count": 53,
   "metadata": {
    "collapsed": false
   },
   "outputs": [],
   "source": [
    "bmat = np.zeros((len(collocgrid),len(collocgrid)))\n",
    "for i in np.arange(len(collocgrid)):\n",
    "    thisG = kernel(collocgrid[i,:],collocgrid[i,:]+xgrid,h)\n",
    "    for k in np.arange(len(collocgrid)):\n",
    "        bmat[i,k] = np.sum(xweights*thisG*phi(collocgrid[i,:]+xgrid,k))\n"
   ]
  },
  {
   "cell_type": "code",
   "execution_count": 56,
   "metadata": {
    "collapsed": false
   },
   "outputs": [
    {
     "data": {
      "text/plain": [
       "16.0"
      ]
     },
     "execution_count": 56,
     "metadata": {},
     "output_type": "execute_result"
    }
   ],
   "source": [
    "phi(collocgrid[1,:],1)"
   ]
  },
  {
   "cell_type": "code",
   "execution_count": 59,
   "metadata": {
    "collapsed": false
   },
   "outputs": [
    {
     "name": "stdout",
     "output_type": "stream",
     "text": [
      "1.0\n"
     ]
    },
    {
     "data": {
      "text/plain": [
       "array([ -7.96645303,  -9.01480779, -10.06522624, -11.09093549,\n",
       "       -12.06123789, -12.94485158, -13.71157616, -14.33401662,\n",
       "       -14.78923057, -15.06016135, -15.13673164, -15.01649981,\n",
       "       -14.70481868, -14.21448198, -13.56489061, -12.7783439 ,\n",
       "       -11.78667116,  -9.04963695, -10.18464663, -11.31451556,\n",
       "       -12.41030932, -13.43851258, -14.36531188, -15.15843769,\n",
       "       -15.78904066, -16.23345351, -16.47468919, -16.50354314,\n",
       "       -16.31920031, -15.92929103, -15.34939063, -14.60200864,\n",
       "       -13.71345868, -12.63189494, -10.03139229, -11.25578951,\n",
       "       -12.4667394 , -13.6331876 , -14.71870632, -15.68698655,\n",
       "       -16.50384864, -17.13925213, -17.56914516, -17.77699487,\n",
       "       -17.75486303, -17.50392932, -17.03441394, -16.36490669,\n",
       "       -15.52116378, -14.53332531, -13.36507917, -10.98538658,\n",
       "       -12.29092748, -13.57290443, -14.79876647, -15.92953185,\n",
       "       -16.92681635, -17.75499591, -18.38332665, -18.78785423,\n",
       "       -18.95294744, -18.87231899, -18.54944063, -17.99731412,\n",
       "       -17.2376192 , -16.29931629, -15.21605388, -13.96582085,\n",
       "       -11.8878912 , -13.26247419, -14.60193322, -15.87297993,\n",
       "       -17.03449194, -18.04648156, -18.87238748, -19.48127497,\n",
       "       -19.84977279, -19.9635778 , -19.81839207, -19.42020694,\n",
       "       -18.78490771, -17.93723532, -16.9091995 , -15.73757151,\n",
       "       -14.41314416, -12.71081928, -14.13987659, -15.52097129,\n",
       "       -16.82103531, -17.99731027, -19.00875106, -19.8184189 ,\n",
       "       -20.39572764, -20.7183732 , -20.77377667, -20.55991074,\n",
       "       -20.0854338 , -19.3691192 , -18.43863208, -17.32876494,\n",
       "       -16.07895253, -14.69112207, -13.42696073, -14.89395573,\n",
       "       -16.29908725, -17.61066179, -18.78486425, -19.78019117,\n",
       "       -20.55991512, -21.09433984, -21.36268649, -21.35444403,\n",
       "       -21.07006144, -20.52091799, -19.72857442, -18.72337368,\n",
       "       -17.54251775, -16.22757329, -14.78984203, -14.01144859,\n",
       "       -15.49850608, -16.90899154, -18.21392607, -19.36907018,\n",
       "       -20.33308907, -21.07005798, -21.55168784, -21.75913347,\n",
       "       -21.68422313, -21.32999758, -20.71050907, -19.84989879,\n",
       "       -18.78083704, -17.54246695, -16.17789321, -14.70601361,\n",
       "       -14.44317043, -15.93180241, -17.32862187, -18.60887011,\n",
       "       -19.72854375, -20.647104  , -21.32999539, -21.75080431,\n",
       "       -21.89295694, -21.75080431, -21.32999539, -20.647104  ,\n",
       "       -19.72854375, -18.60887011, -17.32862187, -15.93180241,\n",
       "       -14.44317043, -14.70601361, -16.17789321, -17.54246695,\n",
       "       -18.78083704, -19.84989879, -20.71050907, -21.32999758,\n",
       "       -21.68422313, -21.75913347, -21.55168784, -21.07005798,\n",
       "       -20.33308907, -19.36907018, -18.21392607, -16.90899154,\n",
       "       -15.49850608, -14.01144859, -14.78984203, -16.22757329,\n",
       "       -17.54251775, -18.72337368, -19.72857442, -20.52091799,\n",
       "       -21.07006144, -21.35444403, -21.36268649, -21.09433984,\n",
       "       -20.55991512, -19.78019117, -18.78486425, -17.61066179,\n",
       "       -16.29908725, -14.89395573, -13.42696073, -14.69112207,\n",
       "       -16.07895253, -17.32876494, -18.43863208, -19.3691192 ,\n",
       "       -20.0854338 , -20.55991074, -20.77377667, -20.7183732 ,\n",
       "       -20.39572764, -19.8184189 , -19.00875106, -17.99731027,\n",
       "       -16.82103531, -15.52097129, -14.13987659, -12.71081928,\n",
       "       -14.41314416, -15.73757151, -16.9091995 , -17.93723532,\n",
       "       -18.78490771, -19.42020694, -19.81839207, -19.9635778 ,\n",
       "       -19.84977279, -19.48127497, -18.87238748, -18.04648156,\n",
       "       -17.03449194, -15.87297993, -14.60193322, -13.26247419,\n",
       "       -11.8878912 , -13.96582085, -15.21605388, -16.29931629,\n",
       "       -17.2376192 , -17.99731412, -18.54944063, -18.87231899,\n",
       "       -18.95294744, -18.78785423, -18.38332665, -17.75499591,\n",
       "       -16.92681635, -15.92953185, -14.79876647, -13.57290443,\n",
       "       -12.29092748, -10.98538658, -13.36507917, -14.53332531,\n",
       "       -15.52116378, -16.36490669, -17.03441394, -17.50392932,\n",
       "       -17.75486303, -17.77699487, -17.56914516, -17.13925213,\n",
       "       -16.50384864, -15.68698655, -14.71870632, -13.6331876 ,\n",
       "       -12.4667394 , -11.25578951, -10.03139229, -12.63189494,\n",
       "       -13.71345868, -14.60200864, -15.34939063, -15.92929103,\n",
       "       -16.31920031, -16.50354314, -16.47468919, -16.23345351,\n",
       "       -15.78904066, -15.15843769, -14.36531188, -13.43851258,\n",
       "       -12.41030932, -11.31451556, -10.18464663,  -9.04963695,\n",
       "       -11.78667116, -12.7783439 , -13.56489061, -14.21448198,\n",
       "       -14.70481868, -15.01649981, -15.13673164, -15.06016135,\n",
       "       -14.78923057, -14.33401662, -13.71157616, -12.94485158,\n",
       "       -12.06123789, -11.09093549, -10.06522624,  -9.01480779,  -7.96645303])"
      ]
     },
     "execution_count": 59,
     "metadata": {},
     "output_type": "execute_result"
    }
   ],
   "source": [
    "# display condition number\n",
    "print(np.linalg.cond(amat,p=2))\n",
    "# print(np.linalg.cond(bmat,p=2))\n",
    "\n",
    "# store psuedoinverse\n",
    "amatinvbmat = np.linalg.solve(amat,bmat)\n",
    "\n",
    "np.sum(amatinvbmat,axis=0)\n",
    "\n",
    "# enforce normalization\n",
    "# for i in np.arange(len(collocgrid)):\n",
    "#     amatinvbmat[:,i] = amatinvbmat[:,i]/np.sum(amatinvbmat[:,i])\n"
   ]
  },
  {
   "cell_type": "code",
   "execution_count": 38,
   "metadata": {
    "collapsed": false
   },
   "outputs": [],
   "source": [
    "c1 = np.linalg.solve(amat, p(collocgrid))\n",
    "# print(np.sum(c1))\n",
    "# c2 = np.matmul(amatinvbmat,c1).flatten()\n",
    "# print(np.sum(c2))\n",
    "# print(np.sum(amatinvbmat,axis=0))"
   ]
  },
  {
   "cell_type": "code",
   "execution_count": 39,
   "metadata": {
    "collapsed": false
   },
   "outputs": [],
   "source": [
    "cvec = c1\n",
    "for i in np.arange(numsteps-1):\n",
    "    cvec = np.matmul(amatinvbmat,cvec).flatten()\n",
    "\n",
    "finalpdf = np.matmul(amat,cvec)\n",
    "exactsol = exactpdf(collocgrid,ft)"
   ]
  },
  {
   "cell_type": "code",
   "execution_count": 40,
   "metadata": {
    "collapsed": false
   },
   "outputs": [
    {
     "name": "stdout",
     "output_type": "stream",
     "text": [
      "1.00000000601\n"
     ]
    }
   ],
   "source": [
    "print(np.sum(cvec))"
   ]
  },
  {
   "cell_type": "code",
   "execution_count": 41,
   "metadata": {
    "collapsed": false
   },
   "outputs": [
    {
     "data": {
      "text/plain": [
       "0.0022618148350861513"
      ]
     },
     "execution_count": 41,
     "metadata": {},
     "output_type": "execute_result"
    }
   ],
   "source": [
    "np.linalg.norm(finalpdf - exactsol)/len(xgrid)"
   ]
  },
  {
   "cell_type": "code",
   "execution_count": 42,
   "metadata": {
    "collapsed": false
   },
   "outputs": [
    {
     "data": {
      "text/plain": [
       "1.0000000019242923"
      ]
     },
     "execution_count": 42,
     "metadata": {},
     "output_type": "execute_result"
    }
   ],
   "source": [
    "np.dot(xweights, exactpdf(xgrid,ft))"
   ]
  },
  {
   "cell_type": "code",
   "execution_count": 43,
   "metadata": {
    "collapsed": false
   },
   "outputs": [
    {
     "data": {
      "image/png": "[encoded data removed]",
      "text/plain": [
       "<matplotlib.figure.Figure at 0x7fa98f366550>"
      ]
     },
     "metadata": {},
     "output_type": "display_data"
    }
   ],
   "source": [
    "%matplotlib inline\n",
    "plt.plot(collocgrid, finalpdf)\n",
    "plt.plot(collocgrid, exactsol)\n",
    "plt.show()\n"
   ]
  }
 ],
 "metadata": {
  "anaconda-cloud": {},
  "kernelspec": {
   "display_name": "Python [conda root]",
   "language": "python",
   "name": "conda-root-py"
  },
  "language_info": {
   "codemirror_mode": {
    "name": "ipython",
    "version": 3
   },
   "file_extension": ".py",
   "mimetype": "text/x-python",
   "name": "python",
   "nbconvert_exporter": "python",
   "pygments_lexer": "ipython3",
   "version": "3.5.2"
  }
 },
 "nbformat": 4,
 "nbformat_minor": 1
}
