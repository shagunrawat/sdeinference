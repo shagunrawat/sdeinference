{
 "cells": [
  {
   "cell_type": "code",
   "execution_count": 1,
   "metadata": {
    "collapsed": false
   },
   "outputs": [],
   "source": [
    "import tensorflow as tf\n",
    "# sess = tf.Session()\n",
    "# sess.run(tf.global_variables_initializer())"
   ]
  },
  {
   "cell_type": "code",
   "execution_count": 61,
   "metadata": {
    "collapsed": false
   },
   "outputs": [],
   "source": [
    "size = tf.constant(100)\n",
    "\n",
    "class gl:\n",
    "    k = tf.constant(0.5)\n",
    "    M = tf.constant(10)\n",
    "    deltat = tf.constant(0.1)\n",
    "    numsteps = tf.constant(10)\n",
    "    h = tf.constant(0.5)\n",
    "    grid = tf.multiply(k,tf.cast(tf.range(tf.negative(M), tf.add(M, 1), delta=1),tf.float32))\n",
    "    gridx, gridy = tf.meshgrid(grid, grid, indexing='ij')\n",
    "    gridsize = tf.add(tf.multiply(M, 2), 1)\n",
    "    gridsize2 = tf.pow(gridsize, 2)"
   ]
  },
  {
   "cell_type": "code",
   "execution_count": 3,
   "metadata": {
    "collapsed": false,
    "scrolled": false
   },
   "outputs": [],
   "source": [
    "# x = tf.placeholder(tf.float32)\n",
    "# y = tf.placeholder(tf.float32)\n",
    "# bias = tf.Variable(1.0)\n",
    "# y_pred = tf.add(tf.pow(x,2),bias)     # x -> x^2 + bias\n",
    "# loss = tf.pow(tf.subtract(y,y_pred),2)     # l2 loss?\n",
    "\n",
    "# init = tf.global_variables_initializer()\n",
    "# with tf.Session() as sess:\n",
    "#     sess.run(init)\n",
    "#     print(bias.eval())\n",
    "#     print(sess.run(loss, feed_dict={x: 3.0, y: 9.0}))\n",
    "#     print(sess.run(y_pred, {x: 3.0}))\n",
    "#     print(sess.run(bias))"
   ]
  },
  {
   "cell_type": "code",
   "execution_count": 75,
   "metadata": {
    "collapsed": false
   },
   "outputs": [],
   "source": [
    "class func:    \n",
    "    x = tf.placeholder(tf.float32)\n",
    "    theta = tf.placeholder(tf.float32, shape = 3)\n",
    "    \n",
    "    f = tf.multiply(theta[0], tf.subtract(theta[1], x))\n",
    "    g = tf.multiply(tf.ones(tf.shape(x)), theta[2])"
   ]
  },
  {
   "cell_type": "code",
   "execution_count": 102,
   "metadata": {
    "collapsed": false
   },
   "outputs": [],
   "source": [
    "def integrandmat(theta):\n",
    "#     theta = tf.placeholder(tf.float32, shape = 3)\n",
    "    fval = sess.run(func.f, feed_dict = {func.x: gl.gridy, func.theta: theta})\n",
    "    gval = sess.run(func.g, feed_dict = {func.x: gl.gridy, func.theta: theta})\n",
    "    mu = tf.add(gridy, tf.multiply(fval, gl.h))\n",
    "    sd = tf.multiply(gval, tf.sqrt(gl.h))\n",
    "    norm = tf.random_normal(gl.gridx, mean = mu, stddev = sd)\n",
    "    return norm\n",
    "\n",
    "# def integrandmat0(x, y, theta, arr):\n",
    "#     fval = sess.run(func.f, feed_dict = {theta, arr})\n",
    "#     gval = sess.run(tf.abs(func.g, fee_dict = {theta, arr}))\n",
    "#     mu = tf.add(y, tf.multiply(fval, gl.h))\n",
    "#     sd = tf.multiply(gval, tf.sqrt(gl.h))\n",
    "#     norm = tf.random_normal(shape=x.shape(), mean=mu, stddev=sd)\n",
    "#     return norm"
   ]
  },
  {
   "cell_type": "code",
   "execution_count": 107,
   "metadata": {
    "collapsed": false
   },
   "outputs": [
    {
     "ename": "TypeError",
     "evalue": "pdf() missing 2 required positional arguments: 'self' and 'value'",
     "output_type": "error",
     "traceback": [
      "\u001b[0;31m---------------------------------------------------------------------------\u001b[0m",
      "\u001b[0;31mTypeError\u001b[0m                                 Traceback (most recent call last)",
      "\u001b[0;32m<ipython-input-107-ad989ef19ddb>\u001b[0m in \u001b[0;36m<module>\u001b[0;34m()\u001b[0m\n\u001b[1;32m     19\u001b[0m     \u001b[0msigval\u001b[0m \u001b[0;34m=\u001b[0m \u001b[0mtf\u001b[0m\u001b[0;34m.\u001b[0m\u001b[0mmultiply\u001b[0m\u001b[0;34m(\u001b[0m\u001b[0mtf\u001b[0m\u001b[0;34m.\u001b[0m\u001b[0mmultiply\u001b[0m\u001b[0;34m(\u001b[0m\u001b[0mgval\u001b[0m\u001b[0;34m,\u001b[0m \u001b[0mgval\u001b[0m\u001b[0;34m)\u001b[0m\u001b[0;34m,\u001b[0m \u001b[0mgl\u001b[0m\u001b[0;34m.\u001b[0m\u001b[0mh\u001b[0m\u001b[0;34m)\u001b[0m\u001b[0;34m\u001b[0m\u001b[0m\n\u001b[1;32m     20\u001b[0m \u001b[0;31m#     norm = tf.random_normal(gl.gridx.shape, mean = mu.eval(), stddev = sd.eval())\u001b[0m\u001b[0;34m\u001b[0m\u001b[0;34m\u001b[0m\u001b[0m\n\u001b[0;32m---> 21\u001b[0;31m     \u001b[0mnorm\u001b[0m \u001b[0;34m=\u001b[0m \u001b[0mtf\u001b[0m\u001b[0;34m.\u001b[0m\u001b[0mcontrib\u001b[0m\u001b[0;34m.\u001b[0m\u001b[0mdistributions\u001b[0m\u001b[0;34m.\u001b[0m\u001b[0mNormal\u001b[0m\u001b[0;34m.\u001b[0m\u001b[0mpdf\u001b[0m\u001b[0;34m(\u001b[0m\u001b[0mmu\u001b[0m \u001b[0;34m=\u001b[0m \u001b[0mmuval\u001b[0m\u001b[0;34m,\u001b[0m \u001b[0msigma\u001b[0m \u001b[0;34m=\u001b[0m \u001b[0msigval\u001b[0m\u001b[0;34m)\u001b[0m\u001b[0;34m\u001b[0m\u001b[0m\n\u001b[0m\u001b[1;32m     22\u001b[0m     \u001b[0mnorm\u001b[0m\u001b[0;34m.\u001b[0m\u001b[0mcdf\u001b[0m\u001b[0;34m(\u001b[0m\u001b[0;36m3.0\u001b[0m\u001b[0;34m)\u001b[0m\u001b[0;34m\u001b[0m\u001b[0m\n",
      "\u001b[0;31mTypeError\u001b[0m: pdf() missing 2 required positional arguments: 'self' and 'value'"
     ]
    }
   ],
   "source": [
    "init = tf.global_variables_initializer()\n",
    "with tf.Session() as sess:\n",
    "    sess.run(init)\n",
    "#     print(gl.k.eval())\n",
    "#     print(gl.M.eval())\n",
    "#     print(gl.grid.eval())\n",
    "#     print(gl.gridsize.eval())\n",
    "#     print(gl.gridsize2.eval())\n",
    "\n",
    "#     print(sess.run(func.f, feed_dict={func.x: gl.grid.eval(), func.theta: [1,2,3]}))\n",
    "#     print(sess.run(func.g, feed_dict={func.x: gl.grid.eval(), func.theta: [1,2,3]}))\n",
    "#     print(sess.run(integrandmat(theta=[1,2,3], arr=1)))\n",
    "#     sess.run(tf.gradients(integrandmat(theta=thval, x=gl.grid), thval), feed_dict={theta: thval})\n",
    "\n",
    "    theta = [1,2,3]\n",
    "    fval = sess.run(func.f, feed_dict = {func.x: gl.gridy.eval(), func.theta: theta})\n",
    "    gval = tf.abs(sess.run(func.g, feed_dict = {func.x: gl.gridy.eval(), func.theta: theta}))\n",
    "    muval = tf.add(gl.gridy.eval(), tf.multiply(fval, gl.h.eval()))\n",
    "    sigval = tf.multiply(tf.multiply(gval, gval), gl.h)\n",
    "#     norm = tf.random_normal(gl.gridx.shape, mean = mu.eval(), stddev = sd.eval())\n",
    "    norm = tf.contrib.distributions.Normal.pdf(mu = muval, sigma = sigval)\n",
    "    norm.cdf(3.0)"
   ]
  },
  {
   "cell_type": "code",
   "execution_count": 51,
   "metadata": {
    "collapsed": false
   },
   "outputs": [
    {
     "name": "stdout",
     "output_type": "stream",
     "text": [
      "[[[ 0.35659879  0.34368408  1.7597394 ]\n",
      "  [ 1.75321603  1.72313619  1.83862364]]\n",
      "\n",
      " [[ 1.62043548  0.54607922  0.6590721 ]\n",
      "  [ 1.14573169  1.86823821  1.48375177]]]\n"
     ]
    }
   ],
   "source": [
    "import numpy as np\n",
    "batch_size, input_size, n = 2, 3, 2\n",
    "# in your case n = 10\n",
    "x = tf.placeholder(tf.float32, shape=(n, batch_size, input_size))\n",
    "y = tf.add(x, x)\n",
    "\n",
    "data = np.random.rand(n, batch_size, input_size)\n",
    "\n",
    "sess1 = tf.Session()\n",
    "print(sess1.run(y, feed_dict={x: data}))\n"
   ]
  },
  {
   "cell_type": "code",
   "execution_count": null,
   "metadata": {
    "collapsed": true
   },
   "outputs": [],
   "source": []
  }
 ],
 "metadata": {
  "kernelspec": {
   "display_name": "Python 3",
   "language": "python",
   "name": "python3"
  },
  "language_info": {
   "codemirror_mode": {
    "name": "ipython",
    "version": 3
   },
   "file_extension": ".py",
   "mimetype": "text/x-python",
   "name": "python",
   "nbconvert_exporter": "python",
   "pygments_lexer": "ipython3",
   "version": "3.6.0"
  }
 },
 "nbformat": 4,
 "nbformat_minor": 2
}
