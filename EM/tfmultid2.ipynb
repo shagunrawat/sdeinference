{
 "cells": [
  {
   "cell_type": "code",
   "execution_count": 1,
   "metadata": {
    "collapsed": false
   },
   "outputs": [],
   "source": [
    "import tensorflow as tf\n",
    "sess = tf.Session()\n",
    "sess.run(tf.global_variables_initializer())"
   ]
  },
  {
   "cell_type": "code",
   "execution_count": 2,
   "metadata": {
    "collapsed": true
   },
   "outputs": [],
   "source": [
    "M = 40\n",
    "N = 2*M+1\n",
    "h = 0.125\n",
    "k = h*h\n",
    "tfM = tf.constant(M)\n",
    "tfN = tf.constant(N)\n",
    "tfk = tf.constant(k)\n",
    "tfh = tf.constant(h)"
   ]
  },
  {
   "cell_type": "code",
   "execution_count": 3,
   "metadata": {
    "collapsed": false
   },
   "outputs": [],
   "source": [
    "tfgrid = tf.multiply(tfk,tf.cast(\n",
    "        tf.range(tf.multiply(tfM,tf.constant(-1)),tf.add(tfM,tf.constant(1))),\n",
    "        tf.float32))"
   ]
  },
  {
   "cell_type": "code",
   "execution_count": 4,
   "metadata": {
    "collapsed": true
   },
   "outputs": [],
   "source": [
    "# these functions assume that \"y\" is the output of tf.stack(tf.meshgrid),\n",
    "# i.e., that y is a rank-(N+1) tensor formed by stacking 2*N rank-N tensors\n",
    "def tff(theta, y):\n",
    "    fval = tf.stack([y[1,:],-(theta[0]*theta[0])*y[0,:]])\n",
    "    return fval\n",
    "\n",
    "def tfg(theta, y):\n",
    "    gval = tf.multiply(theta[1],tf.ones(tf.shape(y)))\n",
    "    return gval\n",
    "    "
   ]
  },
  {
   "cell_type": "code",
   "execution_count": 5,
   "metadata": {
    "collapsed": false
   },
   "outputs": [
    {
     "data": {
      "text/plain": [
       "(2, 81, 81)"
      ]
     },
     "execution_count": 5,
     "metadata": {},
     "output_type": "execute_result"
    }
   ],
   "source": [
    "tfgrids = tf.stack(tf.meshgrid(tfgrid, tfgrid, indexing='ij'))\n",
    "th = tf.placeholder(\"float\",[2]) \n",
    "thval = [1.0,0.1]\n",
    "sess.run(tfg(theta=th,y=tfgrids), feed_dict = {th : thval}).shape"
   ]
  },
  {
   "cell_type": "code",
   "execution_count": 6,
   "metadata": {
    "collapsed": false
   },
   "outputs": [
    {
     "name": "stdout",
     "output_type": "stream",
     "text": [
      "(2, 81, 81)\n",
      "(2, 81, 81)\n"
     ]
    }
   ],
   "source": [
    "# let's build up the propagator in pure tensorflow\n",
    "\n",
    "# compute all mu's at once!\n",
    "mu = tf.add(tfgrids,tf.multiply(tff(theta=th,y=tfgrids),tfh))\n",
    "print(sess.run(mu, feed_dict = {th : thval}).shape)\n",
    "\n",
    "# compute all sigma^2's at once!\n",
    "sig2 = tf.multiply(tf.square(tfg(theta=th,y=tfgrids)),tfh)\n",
    "print(sess.run(sig2, feed_dict = {th : thval}).shape)"
   ]
  },
  {
   "cell_type": "code",
   "execution_count": 7,
   "metadata": {
    "collapsed": false
   },
   "outputs": [
    {
     "name": "stdout",
     "output_type": "stream",
     "text": [
      "0.0744714\n"
     ]
    }
   ],
   "source": [
    "tfgridx = tf.expand_dims(tf.expand_dims(tfgrid,1),1)\n",
    "tfgridx2 = tf.stack([tfgridx, tfgridx])\n",
    "mux = tf.expand_dims(mu,1)\n",
    "sig2x = tf.expand_dims(sig2,1)\n",
    "kernel0 = tf.exp(tf.divide(-0.5*tf.square(tf.subtract(tfgridx2,mux)),sig2x))\n",
    "import numpy as np\n",
    "kernels = tf.divide(kernel0,tf.sqrt(2.0*np.pi*sig2x))\n",
    "kernel = tf.multiply(tf.expand_dims(kernels[0,:],1),tf.expand_dims(kernels[1,:],0))\n",
    "temp = sess.run(tfk*tfk*tf.reduce_sum(kernel,axis=[0, 1]), feed_dict = {th : thval})\n",
    "print(np.mean(np.abs(temp - 1.0)))\n",
    "\n",
    "# print(sess.run(tf.expand_dims(kernels[0,:],1), feed_dict = {th : thval}).shape)\n",
    "# print(sess.run(tf.expand_dims(kernels[1,:],0), feed_dict = {th : thval}).shape)\n",
    "# print(sess.run(tf.stack([tfgridx,tfgridx])).shape)\n",
    "# print(sess.run(tf.expand_dims(mu,1), feed_dict = {th : thval}).shape)"
   ]
  },
  {
   "cell_type": "code",
   "execution_count": 8,
   "metadata": {
    "collapsed": false
   },
   "outputs": [
    {
     "data": {
      "text/plain": [
       "\"\\ntest = tf.range(-2.0,3.0)\\nprint(sess.run(test))\\nmygrids = tf.meshgrid(test, test, indexing='ij')\\nprint(sess.run(mygrids[0]))\\nprint(sess.run(tf.expand_dims(tf.expand_dims(test,1),1)).shape)\\nprint(sess.run(tf.expand_dims(mygrids[0],0)).shape)\\ntest2 = tf.add(tf.expand_dims(tf.expand_dims(test,1),1),tf.expand_dims(mygrids[0],0))\\nprint(sess.run(test[3] + mygrids[0][4][3]))\\nprint(sess.run(test2[3,4,3]))\\n\""
      ]
     },
     "execution_count": 8,
     "metadata": {},
     "output_type": "execute_result"
    }
   ],
   "source": [
    "'''\n",
    "test = tf.range(-2.0,3.0)\n",
    "print(sess.run(test))\n",
    "mygrids = tf.meshgrid(test, test, indexing='ij')\n",
    "print(sess.run(mygrids[0]))\n",
    "print(sess.run(tf.expand_dims(tf.expand_dims(test,1),1)).shape)\n",
    "print(sess.run(tf.expand_dims(mygrids[0],0)).shape)\n",
    "test2 = tf.add(tf.expand_dims(tf.expand_dims(test,1),1),tf.expand_dims(mygrids[0],0))\n",
    "print(sess.run(test[3] + mygrids[0][4][3]))\n",
    "print(sess.run(test2[3,4,3]))\n",
    "'''"
   ]
  },
  {
   "cell_type": "code",
   "execution_count": null,
   "metadata": {
    "collapsed": true
   },
   "outputs": [],
   "source": []
  }
 ],
 "metadata": {
  "anaconda-cloud": {},
  "kernelspec": {
<<<<<<< HEAD
   "display_name": "Python [default]",
=======
   "display_name": "Python [Root]",
>>>>>>> 6430fb52b34181a5a170f5ece6e6a67785c94b53
   "language": "python",
   "name": "Python [Root]"
  },
  "language_info": {
   "codemirror_mode": {
    "name": "ipython",
    "version": 3
   },
   "file_extension": ".py",
   "mimetype": "text/x-python",
   "name": "python",
   "nbconvert_exporter": "python",
   "pygments_lexer": "ipython3",
   "version": "3.5.2"
  }
 },
 "nbformat": 4,
 "nbformat_minor": 0
}
