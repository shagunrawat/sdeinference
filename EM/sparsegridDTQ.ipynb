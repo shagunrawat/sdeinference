{
 "cells": [
  {
   "cell_type": "code",
   "execution_count": 1,
   "metadata": {
    "collapsed": false
   },
   "outputs": [],
   "source": [
    "# make this calculation iterative\n",
    "# compare with the exact O-U solution\n",
    "# generalize to 2D\n",
    "# future work: incorporate Anderson-Mattingly propagator\n",
    "\n",
    "import sys\n",
    "sys.path.append(\"/usr/local/TSG/python\")\n",
    "import TasmanianSG\n",
    "import numpy as np\n",
    "import scipy.stats\n",
    "import matplotlib\n",
    "import matplotlib.pyplot as plt"
   ]
  },
  {
   "cell_type": "code",
   "execution_count": 25,
   "metadata": {
    "collapsed": false
   },
   "outputs": [],
   "source": [
    "grid = TasmanianSG.TasmanianSparseGrid()\n",
    "iDim = 1\n",
    "iLevel = 50"
   ]
  },
  {
   "cell_type": "code",
   "execution_count": 26,
   "metadata": {
    "collapsed": false
   },
   "outputs": [
    {
     "name": "stdout",
     "output_type": "stream",
     "text": [
      "51\n"
     ]
    }
   ],
   "source": [
    "grid.makeGlobalGrid(iDim,0,iLevel,\"level\",\"chebyshev\",[])\n",
    "aPoints = grid.getPoints()\n",
    "aWeights = grid.getQuadratureWeights()\n",
    "reordering = np.argsort(aPoints[:,0])\n",
    "aPoints = aPoints[reordering]\n",
    "aWeights = aWeights[reordering]\n",
    "print(len(aPoints))"
   ]
  },
  {
   "cell_type": "code",
   "execution_count": 27,
   "metadata": {
    "collapsed": false
   },
   "outputs": [
    {
     "data": {
      "text/plain": [
       "array([ -5.55111512e-17])"
      ]
     },
     "execution_count": 27,
     "metadata": {},
     "output_type": "execute_result"
    }
   ],
   "source": [
    "np.dot(aWeights,np.power(aPoints,8)) - 2/9"
   ]
  },
  {
   "cell_type": "code",
   "execution_count": 28,
   "metadata": {
    "collapsed": false
   },
   "outputs": [],
   "source": [
    "theta = 1.0\n",
    "mu = 0.5\n",
    "sigma = 0.5\n",
    "def f(x):\n",
    "    return theta*(mu-x)\n",
    "\n",
    "def g(x):\n",
    "    if np.isscalar(x):\n",
    "        return sigma\n",
    "    else:\n",
    "        return sigma*np.ones(x.shape)\n",
    "    "
   ]
  },
  {
   "cell_type": "code",
   "execution_count": 29,
   "metadata": {
    "collapsed": false
   },
   "outputs": [],
   "source": [
    "ic = 0.1\n",
    "ft = 1.0\n",
    "numsteps = 10\n",
    "h = ft/numsteps\n",
    "g2ic = np.square(g(ic))\n",
    "\n",
    "# setting things up to integrate from -scaling to +scaling\n",
    "scaling = 4.0\n",
    "xgrid = scaling*aPoints.flatten()\n",
    "xweights = scaling*aWeights\n",
    "\n",
    "# define initial condition function\n",
    "def p(x):\n",
    "    p = np.exp(-np.square(x - ic - f(ic)*h)/(2.0*g2ic*h))/np.sqrt(2.0*np.pi*g2ic*h)\n",
    "    return(p)\n",
    "\n",
    "# define exact solution\n",
    "def exactpdf(x,t):\n",
    "    thismu = mu + (ic - mu)*np.exp(-theta*t)\n",
    "    thissd = sigma*np.sqrt((1.0 - np.exp(-2.0*theta*t))/(2.0*theta))\n",
    "    return scipy.stats.norm.pdf(x, loc=thismu, scale=thissd)"
   ]
  },
  {
   "cell_type": "code",
   "execution_count": 30,
   "metadata": {
    "collapsed": false
   },
   "outputs": [
    {
     "name": "stdout",
     "output_type": "stream",
     "text": [
      "0.999200070406\n"
     ]
    }
   ],
   "source": [
    "# check normalization of initial condition\n",
    "# remember, you need to evaluate on xgrid to do quadrature,\n",
    "# but you need to evaluate on collocgrid to do collocation\n",
    "p1 = p(xgrid)\n",
    "print(np.dot(xweights,p1))"
   ]
  },
  {
   "cell_type": "code",
   "execution_count": 31,
   "metadata": {
    "collapsed": false
   },
   "outputs": [
    {
     "name": "stdout",
     "output_type": "stream",
     "text": [
      "0.999716174917\n",
      "0.065852907642\n",
      "0.101881696373\n"
     ]
    }
   ],
   "source": [
    "# direct calculation of p2\n",
    "p2 = np.zeros(len(aPoints))\n",
    "for j in np.arange(len(aPoints)):\n",
    "    x = xgrid[j]\n",
    "    numer = np.square(xgrid + f(x + xgrid)*h)\n",
    "    denom = 2.0*np.square(g(x + xgrid))*h\n",
    "    part1 = np.exp(-numer/denom)/np.sqrt(np.pi*denom)\n",
    "    part2 = p(x + xgrid)\n",
    "    p2[j] = np.dot(xweights,part1*part2)\n",
    "    \n",
    "print(np.dot(xweights,p2))\n",
    "print(np.linalg.norm(p1 - exactpdf(xgrid,h)))\n",
    "print(np.linalg.norm(p2 - exactpdf(xgrid,2*h)))"
   ]
  },
  {
   "cell_type": "code",
   "execution_count": 32,
   "metadata": {
    "collapsed": false
   },
   "outputs": [
    {
     "name": "stdout",
     "output_type": "stream",
     "text": [
      "0.16\n",
      "\n"
     ]
    }
   ],
   "source": [
    "amat = np.zeros((len(xweights),len(xweights)))\n",
    "endpt = scaling\n",
    "collocgrid = np.linspace(-endpt,endpt,len(aWeights))\n",
    "spacing = (collocgrid[1]-collocgrid[0])\n",
    "def psi(x):\n",
    "    # return np.exp(-np.square(x)/2.0)/np.sqrt(2.0*np.pi)\n",
    "    temp = 1 - np.abs(x)\n",
    "    temp[temp<0] = 0\n",
    "    return temp\n",
    "\n",
    "def phi(x,j):\n",
    "    return (psi((x - collocgrid[j])/spacing)/spacing).flatten()\n",
    "\n",
    "print(str(spacing) + \"\\n\")\n",
    "for j in np.arange(len(aPoints)):\n",
    "    amat[:,j] = phi(collocgrid.flatten(),j)\n"
   ]
  },
  {
   "cell_type": "code",
   "execution_count": 33,
   "metadata": {
    "collapsed": false
   },
   "outputs": [
    {
     "data": {
      "image/png": "[encoded data removed]",
      "text/plain": [
       "<matplotlib.figure.Figure at 0x7fa9a63932e8>"
      ]
     },
     "metadata": {},
     "output_type": "display_data"
    }
   ],
   "source": [
    "%matplotlib inline\n",
    "x = np.linspace(-scaling,-scaling+1, 500)\n",
    "plt.plot(x,phi(x,0))\n",
    "plt.plot(x,phi(x,1))\n",
    "plt.plot(x,phi(x,2))\n",
    "plt.plot(x,phi(x,3))\n",
    "\n",
    "# plt.plot(x,phi(x,iLevel//2 - 1))\n",
    "# plt.plot(x,phi(x,iLevel//2))\n",
    "# plt.plot(x,phi(x,iLevel//2 + 1))\n",
    "\n",
    "# for j in np.arange(len(xweights)):\n",
    "#     plt.plot(x,phi(x,j))\n",
    "\n",
    "plt.show()"
   ]
  },
  {
   "cell_type": "code",
   "execution_count": 34,
   "metadata": {
    "collapsed": true
   },
   "outputs": [],
   "source": [
    "def G(x, y, h):\n",
    "    fval = f(y)\n",
    "    gval = np.abs(g(y))\n",
    "    mu = y + fval*h\n",
    "    sd = gval*np.sqrt(h)\n",
    "    return scipy.stats.norm.pdf(x, loc=mu, scale=sd)"
   ]
  },
  {
   "cell_type": "code",
   "execution_count": 35,
   "metadata": {
    "collapsed": true
   },
   "outputs": [],
   "source": [
    "# after change of variables z = y - x\n",
    "# def G2(x, z, h):\n",
    "#     dg2h = 2.0*np.square(g(x + z))*h\n",
    "#     # t1 is the normaliation constant\n",
    "#     t1 = np.power(np.pi*dg2h,-0.5)\n",
    "#     # numerator inside the exponential\n",
    "#     numer = np.square(z + f(x + z)*h)\n",
    "#     t2 = np.exp(-numer/dg2h)\n",
    "#     return t1*t2"
   ]
  },
  {
   "cell_type": "code",
   "execution_count": 36,
   "metadata": {
    "collapsed": false
   },
   "outputs": [],
   "source": [
    "bmat = np.zeros((len(xweights),len(xweights)))\n",
    "for i in np.arange(len(aPoints)):\n",
    "    for k in np.arange(len(aPoints)):\n",
    "        thisG = G(collocgrid[i],collocgrid[i]+xgrid,h).flatten()\n",
    "        # thisG = G2(collocgrid[i],xgrid,h).flatten()\n",
    "        bmat[i,k] = np.sum(xweights*thisG*phi(collocgrid[i]+xgrid,k))\n"
   ]
  },
  {
   "cell_type": "code",
   "execution_count": 37,
   "metadata": {
    "collapsed": false
   },
   "outputs": [
    {
     "name": "stdout",
     "output_type": "stream",
     "text": [
      "1.0\n"
     ]
    }
   ],
   "source": [
    "# display condition number\n",
    "print(np.linalg.cond(amat,p=2))\n",
    "# print(np.linalg.cond(bmat,p=2))\n",
    "\n",
    "# store psuedoinverse\n",
    "amatinvbmat = np.linalg.solve(amat,bmat)\n",
    "\n",
    "# enforce normalization\n",
    "for i in np.arange(len(xweights)):\n",
    "    amatinvbmat[:,i] = amatinvbmat[:,i]/np.sum(amatinvbmat[:,i])\n"
   ]
  },
  {
   "cell_type": "code",
   "execution_count": 38,
   "metadata": {
    "collapsed": false
   },
   "outputs": [],
   "source": [
    "c1 = np.linalg.solve(amat, p(collocgrid))\n",
    "# print(np.sum(c1))\n",
    "# c2 = np.matmul(amatinvbmat,c1).flatten()\n",
    "# print(np.sum(c2))\n",
    "# print(np.sum(amatinvbmat,axis=0))"
   ]
  },
  {
   "cell_type": "code",
   "execution_count": 39,
   "metadata": {
    "collapsed": false
   },
   "outputs": [],
   "source": [
    "cvec = c1\n",
    "for i in np.arange(numsteps-1):\n",
    "    cvec = np.matmul(amatinvbmat,cvec).flatten()\n",
    "\n",
    "finalpdf = np.matmul(amat,cvec)\n",
    "exactsol = exactpdf(collocgrid,ft)"
   ]
  },
  {
   "cell_type": "code",
   "execution_count": 40,
   "metadata": {
    "collapsed": false
   },
   "outputs": [
    {
     "name": "stdout",
     "output_type": "stream",
     "text": [
      "1.00000000601\n"
     ]
    }
   ],
   "source": [
    "print(np.sum(cvec))"
   ]
  },
  {
   "cell_type": "code",
   "execution_count": 41,
   "metadata": {
    "collapsed": false
   },
   "outputs": [
    {
     "data": {
      "text/plain": [
       "0.0022618148350861513"
      ]
     },
     "execution_count": 41,
     "metadata": {},
     "output_type": "execute_result"
    }
   ],
   "source": [
    "np.linalg.norm(finalpdf - exactsol)/len(xgrid)"
   ]
  },
  {
   "cell_type": "code",
   "execution_count": 42,
   "metadata": {
    "collapsed": false
   },
   "outputs": [
    {
     "data": {
      "text/plain": [
       "1.0000000019242923"
      ]
     },
     "execution_count": 42,
     "metadata": {},
     "output_type": "execute_result"
    }
   ],
   "source": [
    "np.dot(xweights, exactpdf(xgrid,ft))"
   ]
  },
  {
   "cell_type": "code",
   "execution_count": 43,
   "metadata": {
    "collapsed": false
   },
   "outputs": [
    {
     "data": {
      "image/png": "[encoded data removed]",
      "text/plain": [
       "<matplotlib.figure.Figure at 0x7fa98f366550>"
      ]
     },
     "metadata": {},
     "output_type": "display_data"
    }
   ],
   "source": [
    "%matplotlib inline\n",
    "plt.plot(collocgrid, finalpdf)\n",
    "plt.plot(collocgrid, exactsol)\n",
    "plt.show()\n"
   ]
  }
 ],
 "metadata": {
  "anaconda-cloud": {},
  "kernelspec": {
   "display_name": "Python [conda root]",
   "language": "python",
   "name": "conda-root-py"
  },
  "language_info": {
   "codemirror_mode": {
    "name": "ipython",
    "version": 3
   },
   "file_extension": ".py",
   "mimetype": "text/x-python",
   "name": "python",
   "nbconvert_exporter": "python",
   "pygments_lexer": "ipython3",
   "version": "3.5.2"
  }
 },
 "nbformat": 4,
 "nbformat_minor": 1
}
