{
 "cells": [
  {
   "cell_type": "code",
   "execution_count": 70,
   "metadata": {
    "collapsed": false
   },
   "outputs": [],
   "source": [
    "import tensorflow as tf\n",
    "import numpy as np\n",
    "import scipy.stats"
   ]
  },
  {
   "cell_type": "code",
   "execution_count": 61,
   "metadata": {
    "collapsed": true
   },
   "outputs": [],
   "source": [
    "sess = tf.Session()\n",
    "sess.run(tf.global_variables_initializer())"
   ]
  },
  {
   "cell_type": "code",
   "execution_count": 160,
   "metadata": {
    "collapsed": false
   },
   "outputs": [
    {
     "name": "stdout",
     "output_type": "stream",
     "text": [
      "[0 1 2 3 4]\n",
      "[0 1 2 3 4]\n",
      "[[1 1 0]\n",
      " [1 1 1]\n",
      " [1 1 2]\n",
      " [1 1 3]\n",
      " [1 1 4]]\n"
     ]
    }
   ],
   "source": [
    "Nnp = 5\n",
    "col1np = np.ones((Nnp,1),dtype='int64')\n",
    "colrnp = np.array([np.arange(0,Nnp,dtype='int64')]).T\n",
    "Aind = np.hstack([col1np,col1np,colrnp])\n",
    "print(Aind[:,2])\n",
    "sortAind = np.argsort(Aind[:,2])\n",
    "print(sortAind)\n",
    "newAind = Aind[sortAind,:]\n",
    "print(newAind)\n",
    "# thesevals = scipy.stats.norm.pdf(x=1, loc=0, scale=5)\n",
    "# print(thesevals)\n",
    "# for vec in np.arange(1, N):\n",
    "#     print(vec)"
   ]
  },
  {
   "cell_type": "code",
   "execution_count": 156,
   "metadata": {
    "collapsed": false
   },
   "outputs": [
    {
     "name": "stdout",
     "output_type": "stream",
     "text": [
      "[0 1 2 3 4]\n",
      "[4 3 2 1 0]\n"
     ]
    }
   ],
   "source": [
    "N = 5\n",
    "col1 = tf.ones(shape = (N,1), dtype = \"int64\")\n",
    "colr = tf.reshape(tf.cast(tf.linspace(start = 0.0, stop = N - 1, num = N), dtype = \"int64\"), (N, 1))\n",
    "A = tf.concat([col1,col1,colr], axis = 1)\n",
    "print(sess.run(A[:,2]))\n",
    "# A = tf.random_normal(shape = (N, N), mean=0, stddev=1)\n",
    "B = tf.nn.top_k(A[:,2], k = 5)\n",
    "print(sess.run(B.indices))"
   ]
  },
  {
   "cell_type": "code",
   "execution_count": 237,
   "metadata": {
    "collapsed": true
   },
   "outputs": [],
   "source": [
    "class gl:\n",
    "    myftype = 'float64'\n",
    "    myitype = 'int64'\n",
    "    k = tf.constant(0.1, dtype = myftype)\n",
    "    M = tf.constant(3, dtype = myitype)\n",
    "    deltat = tf.constant(0.1, dtype = myftype)\n",
    "    numsteps = 10\n",
    "    h = tf.constant(0.5, dtype = myftype)\n",
    "    grid = tf.multiply(k,tf.cast(tf.range(tf.negative(M), tf.add(M, 1), delta = 1), dtype = myftype))\n",
    "    gridx, gridy = tf.meshgrid(grid, grid, indexing = 'ij')\n",
    "    gridsize = tf.cast(tf.add(tf.multiply(M, 2), 1), dtype = myitype)\n",
    "    gridsize2 = tf.pow(gridsize, 2)"
   ]
  },
  {
   "cell_type": "code",
   "execution_count": 250,
   "metadata": {
    "collapsed": false
   },
   "outputs": [
    {
     "name": "stdout",
     "output_type": "stream",
     "text": [
      "[array([ 0.])]\n",
      "[array([[0, 0, 0]])]\n"
     ]
    }
   ],
   "source": [
    "thval = [0.5,0.7,0.2]\n",
    "theta = tf.constant(thval, dtype = gl.myftype)\n",
    "init = tf.constant(0.01, dtype = gl.myftype)\n",
    "final = tf.constant(0.2, dtype = gl.myftype)\n",
    "\n",
    "AMtheta = tf.constant(0.5, dtype = gl.myftype)\n",
    "omtheta = tf.subtract(tf.constant(1.0, dtype = gl.myftype), AMtheta)\n",
    "alpha = []\n",
    "alpha.append(tf.div(tf.constant(0.5, dtype = gl.myftype), tf.multiply(AMtheta, omtheta)))\n",
    "alpha.append(tf.multiply(alpha[0], tf.add(tf.square(AMtheta), tf.square(omtheta))))\n",
    "\n",
    "outAval = tf.zeros(shape = 1, dtype = gl.myftype)     # [0.]\n",
    "outAind = tf.zeros(shape = [1,3], dtype = gl.myitype) # [[0 0 0]]\n",
    "Aval = [outAval]    # [array([ 0.])]\n",
    "Aind = [outAind]    # [array([[0, 0, 0]])]\n",
    "fvec = f(theta, grid)\n",
    "gvec = g(theta, grid)\n",
    "\n",
    "g2m1 = tf.square(gvec)\n",
    "col1 = tf.ones(shape = gl.gridsize, dtype = gl.myitype)\n",
    "\n",
    "# # medr = tf.linspace(start = 0.0, stop = 4.0, num = 5)\n",
    "# medr = tf.cast(tf.range(0, gl.gridsize, delta = 1), dtype = gl.myitype)\n",
    "# # colr = tf.reshape(medr)\n",
    "# print(sess.run(medr))"
   ]
  },
  {
   "cell_type": "code",
   "execution_count": 191,
   "metadata": {
    "collapsed": false
   },
   "outputs": [
    {
     "name": "stdout",
     "output_type": "stream",
     "text": [
      "2.0\n",
      "[[1]\n",
      " [1]\n",
      " [1]\n",
      " [1]\n",
      " [1]\n",
      " [1]\n",
      " [1]]\n",
      "[[0]\n",
      " [1]\n",
      " [2]\n",
      " [3]\n",
      " [4]\n",
      " [5]\n",
      " [6]]\n"
     ]
    }
   ],
   "source": [
    "def f(theta, x, returngrad=False):\n",
    "    fval = (theta[0])*(theta[1] - x)\n",
    "    if returngrad==False:\n",
    "        return fval\n",
    "    else:\n",
    "        if (np.isscalar(x)):\n",
    "            xshape = ()\n",
    "        else:\n",
    "            xshape = x.shape\n",
    "        dfdtheta = np.zeros(theta.shape + xshape)\n",
    "        # want this to broadcast correctly regardless of whether x is a matrix or vector\n",
    "        dfdtheta[0,...] = fval/theta[0]\n",
    "        dfdtheta[1,...] = theta[0]\n",
    "        dfdtheta[2,...] = 0\n",
    "        return fval, dfdtheta\n",
    "    \n",
    "def g(theta, x, returngrad=False):\n",
    "    if (np.isscalar(x)):\n",
    "        xshape = ()\n",
    "        gval = theta[2]\n",
    "    else:\n",
    "        xshape = x.shape\n",
    "        gval = np.ones(xshape)*theta[2]\n",
    "        \n",
    "    if returngrad==False:\n",
    "        return gval\n",
    "    else:\n",
    "        dgdtheta = np.zeros(theta.shape + xshape)\n",
    "        # want this to broadcast correctly regardless of whether x is a matrix or vector\n",
    "        dgdtheta[0,...] = 0\n",
    "        dgdtheta[1,...] = 0\n",
    "        dgdtheta[2,...] = 1\n",
    "        return gval, dgdtheta\n",
    "    \n",
    "\n",
    "M = 3\n",
    "k = 0.1\n",
    "AMtheta = 0.5\n",
    "omtheta = 1.-AMtheta\n",
    "alpha = np.zeros(2)\n",
    "alpha[0] = 0.5/(AMtheta*omtheta)\n",
    "alpha[1] = alpha[0]*(omtheta*omtheta + AMtheta*AMtheta)\n",
    "print(alpha[0])\n",
    "grid = np.arange(-M,(M+1))*k\n",
    "N = 2*M+1\n",
    "outAval = np.zeros(1)\n",
    "outAind = np.zeros((1,3),dtype='int64')\n",
    "Aval = [outAval]\n",
    "Aind = [outAind]\n",
    "th = np.array([1.,0.5,0.75])\n",
    "fvec = f(th, grid)\n",
    "gvec = g(th, grid)\n",
    "g2m1 = np.square(gvec)\n",
    "col1 = np.ones((N,1),dtype='int64')\n",
    "colr = np.array([np.arange(0,N,dtype='int64')]).T\n",
    "print(col1)\n",
    "print(colr)"
   ]
  },
  {
   "cell_type": "code",
   "execution_count": null,
   "metadata": {
    "collapsed": true
   },
   "outputs": [],
   "source": []
  }
 ],
 "metadata": {
  "kernelspec": {
   "display_name": "Python 3",
   "language": "python",
   "name": "python3"
  },
  "language_info": {
   "codemirror_mode": {
    "name": "ipython",
    "version": 3
   },
   "file_extension": ".py",
   "mimetype": "text/x-python",
   "name": "python",
   "nbconvert_exporter": "python",
   "pygments_lexer": "ipython3",
   "version": "3.6.0"
  }
 },
 "nbformat": 4,
 "nbformat_minor": 2
}
