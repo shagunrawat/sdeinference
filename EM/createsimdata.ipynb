{
 "cells": [
  {
   "cell_type": "code",
   "execution_count": 3,
   "metadata": {
    "collapsed": false
   },
   "outputs": [],
   "source": [
    "# create simulated Ornstein-Uhlenbeck data\n",
    "# save it to a file\n",
    "import numpy as np\n",
    "import scipy.stats\n",
    "\n",
    "def f(theta, x, returngrad=False):\n",
    "    fval = (theta[0])*(theta[1] - x)\n",
    "    if returngrad==False:\n",
    "        return fval\n",
    "    else:\n",
    "        if (np.isscalar(x)):\n",
    "            xshape = ()\n",
    "        else:\n",
    "            xshape = x.shape\n",
    "        dfdtheta = np.zeros(theta.shape + xshape)\n",
    "        # want this to broadcast correctly regardless of whether x is a matrix or vector\n",
    "        dfdtheta[0,...] = fval/theta[0]\n",
    "        dfdtheta[1,...] = theta[0]\n",
    "        dfdtheta[2,...] = 0\n",
    "        return fval, dfdtheta\n",
    "    \n",
    "def g(theta, x, returngrad=False):\n",
    "    if (np.isscalar(x)):\n",
    "        xshape = ()\n",
    "        gval = theta[2]\n",
    "    else:\n",
    "        xshape = x.shape\n",
    "        gval = np.ones(xshape)*theta[2]\n",
    "        \n",
    "    if returngrad==False:\n",
    "        return gval\n",
    "    else:\n",
    "        dgdtheta = np.zeros(theta.shape + xshape)\n",
    "        # want this to broadcast correctly regardless of whether x is a matrix or vector\n",
    "        dgdtheta[0,...] = 0\n",
    "        dgdtheta[1,...] = 0\n",
    "        dgdtheta[2,...] = 1\n",
    "        return gval, dgdtheta\n",
    "\n",
    "# create simulated data\n",
    "theta = np.array([1., 0.75, 2.])\n",
    "spdt = 1000\n",
    "deltat = 0.1\n",
    "idt = deltat/spdt\n",
    "idt12 = np.sqrt(idt)\n",
    "sampsize = 50\n",
    "x = np.zeros(sampsize)\n",
    "t = np.zeros(sampsize)\n",
    "x[0] = 0.1\n",
    "t[0] = 0\n",
    "cur = x[0]\n",
    "curt = t[0]\n",
    "for i in range(sampsize-1):\n",
    "    for j in range(spdt):\n",
    "        cur += idt*f(theta,cur) + idt12*g(theta,cur)*np.asscalar(scipy.stats.norm.rvs(size=1))\n",
    "        curt += idt\n",
    "        \n",
    "    x[i+1] = cur\n",
    "    t[i+1] = curt\n",
    "\n"
   ]
  },
  {
   "cell_type": "code",
   "execution_count": 8,
   "metadata": {
    "collapsed": false
   },
   "outputs": [
    {
     "name": "stdout",
     "output_type": "stream",
     "text": [
      "(50, 2)\n"
     ]
    }
   ],
   "source": [
    "# join xt into a matrix\n",
    "xt = np.vstack([x,t]).T\n",
    "print(xt.shape)"
   ]
  },
  {
   "cell_type": "code",
   "execution_count": 10,
   "metadata": {
    "collapsed": false
   },
   "outputs": [],
   "source": [
    "# save to a file\n",
    "import csv\n",
    "with open('simdata.csv', 'w', newline='') as csvfile:\n",
    "    datawriter = csv.writer(csvfile)\n",
    "    datawriter.writerows(xt)"
   ]
  }
 ],
 "metadata": {
  "anaconda-cloud": {},
  "kernelspec": {
   "display_name": "Python [Root]",
   "language": "python",
   "name": "Python [Root]"
  },
  "language_info": {
   "codemirror_mode": {
    "name": "ipython",
    "version": 3
   },
   "file_extension": ".py",
   "mimetype": "text/x-python",
   "name": "python",
   "nbconvert_exporter": "python",
   "pygments_lexer": "ipython3",
   "version": "3.5.2"
  }
 },
 "nbformat": 4,
 "nbformat_minor": 0
}
