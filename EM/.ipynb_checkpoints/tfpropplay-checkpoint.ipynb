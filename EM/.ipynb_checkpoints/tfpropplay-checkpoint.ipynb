{
 "cells": [
  {
   "cell_type": "code",
   "execution_count": 12,
   "metadata": {
    "collapsed": false
   },
   "outputs": [],
   "source": [
    "import tensorflow as tf\n",
    "sess = tf.Session()\n",
    "sess.run(tf.global_variables_initializer())"
   ]
  },
  {
   "cell_type": "code",
   "execution_count": 13,
   "metadata": {
    "collapsed": true
   },
   "outputs": [],
   "source": [
    "M = 10\n",
    "N = 2*M+1\n",
    "k = 0.5\n",
    "h = 0.5\n",
    "tfM = tf.constant(M)\n",
    "tfN = tf.constant(N)\n",
    "tfk = tf.constant(k)\n",
    "tfh = tf.constant(h)"
   ]
  },
  {
   "cell_type": "code",
   "execution_count": 14,
   "metadata": {
    "collapsed": false
   },
   "outputs": [],
   "source": [
    "tfgrid = tf.multiply(tfk,tf.cast(\n",
    "        tf.range(tf.multiply(tfM,tf.constant(-1)),tf.add(tfM,tf.constant(1))),\n",
    "        tf.float32))"
   ]
  },
  {
   "cell_type": "code",
   "execution_count": 15,
   "metadata": {
    "collapsed": false
   },
   "outputs": [
    {
     "data": {
      "text/plain": [
       "array([-5. , -4.5, -4. , -3.5, -3. , -2.5, -2. , -1.5, -1. , -0.5,  0. ,\n",
       "        0.5,  1. ,  1.5,  2. ,  2.5,  3. ,  3.5,  4. ,  4.5,  5. ], dtype=float32)"
      ]
     },
     "execution_count": 15,
     "metadata": {},
     "output_type": "execute_result"
    }
   ],
   "source": [
    "sess.run(tfgrid)"
   ]
  },
  {
   "cell_type": "code",
   "execution_count": 22,
   "metadata": {
    "collapsed": true
   },
   "outputs": [],
   "source": [
    "def tff(theta, x):\n",
    "    fval = (theta[0])*(theta[1] - x)\n",
    "    return fval\n",
    "\n",
    "def tfg(theta, x):\n",
    "    gval = theta[2]*tf.ones(tf.shape(x))\n",
    "    return gval"
   ]
  },
  {
   "cell_type": "code",
   "execution_count": 17,
   "metadata": {
    "collapsed": false
   },
   "outputs": [
    {
     "data": {
      "text/plain": [
       "[array([  0.,   0.,  21.], dtype=float32)]"
      ]
     },
     "execution_count": 17,
     "metadata": {},
     "output_type": "execute_result"
    }
   ],
   "source": [
    "# quick code to get automatic gradient\n",
    "# note that this is *summed* over all entries of the x=tfgrid tensor\n",
    "th = tf.placeholder(\"float\",[3])\n",
    "thval = [0.5,0.7,0.2]\n",
    "sess.run(tf.gradients(tff(theta=th,x=tfgrid),th), feed_dict = {th: thval})\n",
    "sess.run(tf.gradients(tfg(theta=th,x=tfgrid),th), feed_dict = {th: thval})"
   ]
  },
  {
   "cell_type": "code",
   "execution_count": 18,
   "metadata": {
    "collapsed": true
   },
   "outputs": [],
   "source": [
    "import numpy as np"
   ]
  },
  {
   "cell_type": "code",
   "execution_count": 19,
   "metadata": {
    "collapsed": false
   },
   "outputs": [],
   "source": [
    "# let's build up the propagator in pure tensorflow\n",
    "tfgridx, tfgridy = tf.meshgrid(tfgrid, tfgrid, indexing='ij')\n",
    "tfmu = tf.add(tfgridy,tf.multiply(tff(theta=th,x=tfgridy),tfh))\n",
    "tfsig = tf.multiply(tf.sqrt(tfh),tfg(theta=th,x=tfgridy))\n",
    "tfc0 = tf.reciprocal(tf.multiply(tf.sqrt(tf.multiply(2.0,tf.constant(np.pi))),tfsig))\n",
    "tfnumer = tf.multiply(-1.0,tf.square(tf.subtract(tfgridx,tfmu)))\n",
    "tfdenom = tf.multiply(2.0,tf.square(tfsig))\n",
    "tfprop = tf.multiply(tfc0,tf.exp(tf.divide(tfnumer,tfdenom)))"
   ]
  },
  {
   "cell_type": "code",
   "execution_count": 20,
   "metadata": {
    "collapsed": false
   },
   "outputs": [
    {
     "data": {
      "text/plain": [
       "0.28572911"
      ]
     },
     "execution_count": 20,
     "metadata": {},
     "output_type": "execute_result"
    }
   ],
   "source": [
    "np.mean(np.abs(sess.run(tf.reduce_sum(tfprop,axis=0), feed_dict = {th: thval})*k  - 1.0))"
   ]
  },
  {
   "cell_type": "code",
   "execution_count": 21,
   "metadata": {
    "collapsed": false
   },
   "outputs": [
    {
     "data": {
      "text/plain": [
       "[array([ 18.22197533,   2.13901258,  -7.51260948], dtype=float32)]"
      ]
     },
     "execution_count": 21,
     "metadata": {},
     "output_type": "execute_result"
    }
   ],
   "source": [
    "sess.run(tf.gradients(tfprop,th), feed_dict = {th: thval})"
   ]
  },
  {
   "cell_type": "code",
   "execution_count": null,
   "metadata": {
    "collapsed": true
   },
   "outputs": [],
   "source": []
  }
 ],
 "metadata": {
  "anaconda-cloud": {},
  "kernelspec": {
   "display_name": "Python [Root]",
   "language": "python",
   "name": "Python [Root]"
  },
  "language_info": {
   "codemirror_mode": {
    "name": "ipython",
    "version": 3
   },
   "file_extension": ".py",
   "mimetype": "text/x-python",
   "name": "python",
   "nbconvert_exporter": "python",
   "pygments_lexer": "ipython3",
   "version": "3.5.2"
  }
 },
 "nbformat": 4,
 "nbformat_minor": 0
}
