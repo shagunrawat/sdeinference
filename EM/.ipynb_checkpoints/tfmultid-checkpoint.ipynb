{
 "cells": [
  {
   "cell_type": "code",
   "execution_count": 1,
   "metadata": {
    "collapsed": false
   },
   "outputs": [],
   "source": [
    "import tensorflow as tf\n",
    "import numpy as np\n",
    "\n",
    "sess = tf.Session()\n",
    "sess.run(tf.global_variables_initializer())"
   ]
  },
  {
   "cell_type": "code",
   "execution_count": 2,
   "metadata": {
    "collapsed": false
   },
   "outputs": [],
   "source": [
    "ft = 1\n",
    "numsteps = 4\n",
    "h = ft/numsteps\n",
    "k = np.power(h,1.5)\n",
    "M = np.ceil(2.5/k)\n",
    "N = 2*M+1\n",
    "tfM = tf.constant(M,dtype=tf.int32)\n",
    "myftype = tf.float32\n",
    "#tfN = tf.constant(N)\n",
    "tfk = tf.constant(k,dtype=myftype)\n",
    "tfh = tf.constant(h,dtype=myftype)"
   ]
  },
  {
   "cell_type": "code",
   "execution_count": 3,
   "metadata": {
    "collapsed": false
   },
   "outputs": [],
   "source": [
    "tfgrid = tf.multiply(tfk,tf.cast(\n",
    "        tf.range(tf.multiply(tfM,tf.constant(-1)),tf.add(tfM,tf.constant(1))),dtype=myftype))"
   ]
  },
  {
   "cell_type": "code",
   "execution_count": 4,
   "metadata": {
    "collapsed": true
   },
   "outputs": [],
   "source": [
    "# these functions assume that \"y\" is the output of tf.stack(tf.meshgrid),\n",
    "# i.e., that y is a rank-(N+1) tensor formed by stacking 2*N rank-N tensors\n",
    "def tff(theta, y):\n",
    "    fval = tf.stack([y[1,:],-(theta[0]*theta[0])*y[0,:]])\n",
    "    return fval\n",
    "\n",
    "def tfg(theta, y):\n",
    "    gval = tf.multiply(theta[1],tf.ones(tf.shape(y),dtype=myftype))\n",
    "    return gval\n",
    "    "
   ]
  },
  {
   "cell_type": "code",
   "execution_count": 5,
   "metadata": {
    "collapsed": false
   },
   "outputs": [
    {
     "data": {
      "text/plain": [
       "(2, 41, 41)"
      ]
     },
     "execution_count": 5,
     "metadata": {},
     "output_type": "execute_result"
    }
   ],
   "source": [
    "tfgrids = tf.stack(tf.meshgrid(tfgrid, tfgrid, indexing='ij'))\n",
    "th = tf.placeholder(myftype,[2]) \n",
    "thval = [1.0,0.1]\n",
    "sess.run(tfg(theta=th,y=tfgrids), feed_dict = {th : thval}).shape"
   ]
  },
  {
   "cell_type": "code",
   "execution_count": 6,
   "metadata": {
    "collapsed": false
   },
   "outputs": [
    {
     "name": "stdout",
     "output_type": "stream",
     "text": [
      "(2, 41, 41)\n",
      "(2, 41, 41)\n"
     ]
    }
   ],
   "source": [
    "# let's build up the propagator in pure tensorflow\n",
    "\n",
    "# compute all mu's at once!\n",
    "mu = tf.add(tfgrids,tf.multiply(tff(theta=th,y=tfgrids),tfh))\n",
    "print(sess.run(mu, feed_dict = {th : thval}).shape)\n",
    "\n",
    "# compute all sigma^2's at once!\n",
    "sig2 = tf.multiply(tf.square(tfg(theta=th,y=tfgrids)),tfh)\n",
    "print(sess.run(sig2, feed_dict = {th : thval}).shape)"
   ]
  },
  {
   "cell_type": "code",
   "execution_count": 7,
   "metadata": {
    "collapsed": false
   },
   "outputs": [],
   "source": [
    "tfgridx = tf.expand_dims(tf.expand_dims(tfgrid,1),1)\n",
    "tfgridx2 = tf.stack([tfgridx, tfgridx])\n",
    "mux = tf.expand_dims(mu,1)\n",
    "sig2x = tf.expand_dims(sig2,1)\n",
    "kernel0 = tf.exp(tf.divide(-0.5*tf.square(tf.subtract(tfgridx2,mux)),sig2x))\n",
    "kernels = tf.divide(kernel0,tf.sqrt(2.0*np.pi*sig2x))\n",
    "kernel = tf.multiply(tf.expand_dims(kernels[0,:],1),tf.expand_dims(kernels[1,:],0))\n",
    "# temp = sess.run(tfk*tfk*tf.reduce_sum(kernel,axis=[0, 1]), feed_dict = {th : thval})\n",
    "# bndry = 5\n",
    "# print(np.mean(np.abs(temp[bndry:(2*M+1-bndry),bndry:(2*M+1-bndry)] - 1.0)))\n",
    "\n",
    "# print(sess.run(tf.expand_dims(kernels[0,:],1), feed_dict = {th : thval}).shape)\n",
    "# print(sess.run(tf.expand_dims(kernels[1,:],0), feed_dict = {th : thval}).shape)\n",
    "# print(sess.run(tf.stack([tfgridx,tfgridx])).shape)\n",
    "# print(sess.run(tf.expand_dims(mu,1), feed_dict = {th : thval}).shape)\n",
    "\n",
    "# kernels will be (number of dimensions)*(2M+1)^(number of dimensions+1)\n",
    "# kernel will be (2M+1)^(2*number of dimensions)\n",
    "# questions:\n",
    "# 1) can we do this with kernel? yes, we can\n",
    "# 2) can we do this with kernels instead? yes, we can\n",
    "# 3) which one is faster?  which one uses less space?  answer: use kernels"
   ]
  },
  {
   "cell_type": "code",
   "execution_count": 8,
   "metadata": {
    "collapsed": true
   },
   "outputs": [],
   "source": [
    "import tensorly as ty\n",
    "import tensorly.decomposition as tyde"
   ]
  },
  {
   "cell_type": "code",
   "execution_count": 9,
   "metadata": {
    "collapsed": false
   },
   "outputs": [],
   "source": [
    "tensor = sess.run(kernel,feed_dict={th:thval})"
   ]
  },
  {
   "cell_type": "code",
   "execution_count": 10,
   "metadata": {
    "collapsed": false
   },
   "outputs": [
    {
     "data": {
      "text/plain": [
       "(41, 41, 41, 41)"
      ]
     },
     "execution_count": 10,
     "metadata": {},
     "output_type": "execute_result"
    }
   ],
   "source": [
    "tensor.shape"
   ]
  },
  {
   "cell_type": "code",
   "execution_count": null,
   "metadata": {
    "collapsed": false
   },
   "outputs": [],
   "source": [
    "# tensor1 = tensor[1,:]\n",
    "core, factors = tyde.tucker(tensor,ranks=[2,41,41,41])\n",
    "recon = ty.tucker_to_tensor(core, factors)\n",
    "print(np.sqrt(np.sum(np.square(recon - tensor))))"
   ]
  },
  {
   "cell_type": "code",
   "execution_count": 30,
   "metadata": {
    "collapsed": false
   },
   "outputs": [],
   "source": [
    "# initial condition, Dirac delta centered at \"ic\"\n",
    "ic = tf.constant(np.array([[1.],[0.]]),dtype=myftype)\n",
    "icmu = tf.add(ic,tf.multiply(tff(theta=th,y=ic),tfh))\n",
    "icsig2 = tf.multiply(tf.square(tfg(theta=th,y=ic)),tfh)\n",
    "\n",
    "#tfgridx = tf.expand_dims(tf.expand_dims(tfgrid,1),1)\n",
    "#tfgridx2 = tf.stack([tfgridx, tfgridx])\n",
    "\n",
    "icmux = tf.expand_dims(tf.expand_dims(icmu,1),2)\n",
    "icsig2x = tf.expand_dims(tf.expand_dims(icsig2,1),2)\n",
    "ickernel0 = tf.exp(tf.divide(-0.5*tf.square(tf.subtract(tfgridx2,icmux)),icsig2x))\n",
    "ickernels = tf.divide(ickernel0,tf.sqrt(2.0*np.pi*icsig2x))\n",
    "\n",
    "# this next object is the PDF after 1 time step\n",
    "# ickernel = tf.multiply(tf.expand_dims(ickernels[0,:],1),tf.expand_dims(ickernels[1,:],0))\n",
    "ickernel2 = tf.multiply(tf.expand_dims(ickernels[0,:],1),tf.expand_dims(ickernels[1,:],0))"
   ]
  },
  {
   "cell_type": "code",
   "execution_count": 31,
   "metadata": {
    "collapsed": false
   },
   "outputs": [],
   "source": [
    "# time stepping with kernel\n",
    "# for i in range(numsteps-1):\n",
    "#     ickernel = k*k*tf.tensordot(kernel, ickernel, axes=[[2,3],[0,1]])\n",
    "\n",
    "# print(sess.run(k*k*tf.reduce_sum(tf.multiply(tf.squeeze(ickernel),tfgrids[0,:])),feed_dict={th:thval}))\n",
    "# print(sess.run(k*k*tf.reduce_sum(tf.multiply(tf.squeeze(ickernel),tfgrids[1,:])),feed_dict={th:thval}))"
   ]
  },
  {
   "cell_type": "code",
   "execution_count": 32,
   "metadata": {
    "collapsed": false
   },
   "outputs": [
    {
     "name": "stdout",
     "output_type": "stream",
     "text": [
      "[0.54030230586813977, -0.8414709848078965]\n"
     ]
    }
   ],
   "source": [
    "print([np.cos(ft),-np.sin(ft)])"
   ]
  },
  {
   "cell_type": "code",
   "execution_count": 33,
   "metadata": {
    "collapsed": false
   },
   "outputs": [
    {
     "name": "stdout",
     "output_type": "stream",
     "text": [
      "0.579322\n",
      "-0.892087\n",
      "[ 0.57932174 -0.89208686]\n"
     ]
    }
   ],
   "source": [
    "# time stepping with kernels\n",
    "for i in range(numsteps-1):\n",
    "    intermed = k*k*tf.squeeze(tf.tensordot(kernels, ickernel2, axes=[[2,3],[0,1]]))\n",
    "    ickernel2 = tf.multiply(tf.expand_dims(intermed[0,:],1),tf.expand_dims(intermed[1,:],0))\n",
    "\n",
    "#print(sess.run(tf.shape(ickernel2),feed_dict={th:thval}))\n",
    "print(sess.run(k*k*tf.tensordot(tfgrids,ickernel2,axes=[[1,2],[0,1]]),feed_dict={th:thval}))"
   ]
  },
  {
   "cell_type": "code",
   "execution_count": 22,
   "metadata": {
    "collapsed": false
   },
   "outputs": [
    {
     "name": "stdout",
     "output_type": "stream",
     "text": [
      "[  2 321 321]\n"
     ]
    },
    {
     "data": {
      "text/plain": [
       "\"\\ntest = tf.range(-2.0,3.0)\\nprint(sess.run(test))\\nmygrids = tf.meshgrid(test, test, indexing='ij')\\nprint(sess.run(mygrids[0]))\\nprint(sess.run(tf.expand_dims(tf.expand_dims(test,1),1)).shape)\\nprint(sess.run(tf.expand_dims(mygrids[0],0)).shape)\\ntest2 = tf.add(tf.expand_dims(tf.expand_dims(test,1),1),tf.expand_dims(mygrids[0],0))\\nprint(sess.run(test[3] + mygrids[0][4][3]))\\nprint(sess.run(test2[3,4,3]))\\n\""
      ]
     },
     "execution_count": 22,
     "metadata": {},
     "output_type": "execute_result"
    }
   ],
   "source": [
    "print(sess.run(tf.shape(tfgrids),feed_dict={th:thval}))\n",
    "'''\n",
    "test = tf.range(-2.0,3.0)\n",
    "print(sess.run(test))\n",
    "mygrids = tf.meshgrid(test, test, indexing='ij')\n",
    "print(sess.run(mygrids[0]))\n",
    "print(sess.run(tf.expand_dims(tf.expand_dims(test,1),1)).shape)\n",
    "print(sess.run(tf.expand_dims(mygrids[0],0)).shape)\n",
    "test2 = tf.add(tf.expand_dims(tf.expand_dims(test,1),1),tf.expand_dims(mygrids[0],0))\n",
    "print(sess.run(test[3] + mygrids[0][4][3]))\n",
    "print(sess.run(test2[3,4,3]))\n",
    "'''"
   ]
  },
  {
   "cell_type": "code",
   "execution_count": null,
   "metadata": {
    "collapsed": true
   },
   "outputs": [],
   "source": []
  }
 ],
 "metadata": {
  "anaconda-cloud": {},
  "kernelspec": {
   "display_name": "Python [Root]",
   "language": "python",
   "name": "Python [Root]"
  },
  "language_info": {
   "codemirror_mode": {
    "name": "ipython",
    "version": 3
   },
   "file_extension": ".py",
   "mimetype": "text/x-python",
   "name": "python",
   "nbconvert_exporter": "python",
   "pygments_lexer": "ipython3",
   "version": "3.5.2"
  }
 },
 "nbformat": 4,
 "nbformat_minor": 0
}
